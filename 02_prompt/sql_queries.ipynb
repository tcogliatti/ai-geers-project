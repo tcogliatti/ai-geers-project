{
 "cells": [
  {
   "cell_type": "markdown",
   "id": "c63c8c9a",
   "metadata": {},
   "source": [
    "# Consultas a la BBDD\n",
    "En este archivo se prueban consutlas a al BBDD usando lenguaje natural"
   ]
  },
  {
   "cell_type": "markdown",
   "id": "d92bc2b6",
   "metadata": {},
   "source": [
    "---"
   ]
  },
  {
   "cell_type": "markdown",
   "id": "1d01394a",
   "metadata": {},
   "source": [
    "## Setup"
   ]
  },
  {
   "cell_type": "markdown",
   "id": "08332e9b",
   "metadata": {},
   "source": [
    "### Instalaciones"
   ]
  },
  {
   "cell_type": "code",
   "execution_count": 1,
   "id": "d9404770",
   "metadata": {},
   "outputs": [
    {
     "name": "stdout",
     "output_type": "stream",
     "text": [
      "Collecting langgraph\n",
      "  Downloading langgraph-0.6.7-py3-none-any.whl.metadata (6.8 kB)\n",
      "Requirement already satisfied: langchain-core>=0.1 in /Users/tc/Desktop/Curso - Geers AI/ai-geers-project/.venv/lib/python3.13/site-packages (from langgraph) (0.3.76)\n",
      "Collecting langgraph-checkpoint<3.0.0,>=2.1.0 (from langgraph)\n",
      "  Using cached langgraph_checkpoint-2.1.1-py3-none-any.whl.metadata (4.2 kB)\n",
      "Collecting langgraph-prebuilt<0.7.0,>=0.6.0 (from langgraph)\n",
      "  Using cached langgraph_prebuilt-0.6.4-py3-none-any.whl.metadata (4.5 kB)\n",
      "Collecting langgraph-sdk<0.3.0,>=0.2.2 (from langgraph)\n",
      "  Downloading langgraph_sdk-0.2.6-py3-none-any.whl.metadata (1.5 kB)\n",
      "Requirement already satisfied: pydantic>=2.7.4 in /Users/tc/Desktop/Curso - Geers AI/ai-geers-project/.venv/lib/python3.13/site-packages (from langgraph) (2.11.9)\n",
      "Collecting xxhash>=3.5.0 (from langgraph)\n",
      "  Using cached xxhash-3.5.0-cp313-cp313-macosx_11_0_arm64.whl.metadata (12 kB)\n",
      "Collecting ormsgpack>=1.10.0 (from langgraph-checkpoint<3.0.0,>=2.1.0->langgraph)\n",
      "  Using cached ormsgpack-1.10.0-cp313-cp313-macosx_10_12_x86_64.macosx_11_0_arm64.macosx_10_12_universal2.whl.metadata (43 kB)\n",
      "Requirement already satisfied: httpx>=0.25.2 in /Users/tc/Desktop/Curso - Geers AI/ai-geers-project/.venv/lib/python3.13/site-packages (from langgraph-sdk<0.3.0,>=0.2.2->langgraph) (0.28.1)\n",
      "Requirement already satisfied: orjson>=3.10.1 in /Users/tc/Desktop/Curso - Geers AI/ai-geers-project/.venv/lib/python3.13/site-packages (from langgraph-sdk<0.3.0,>=0.2.2->langgraph) (3.11.3)\n",
      "Requirement already satisfied: anyio in /Users/tc/Desktop/Curso - Geers AI/ai-geers-project/.venv/lib/python3.13/site-packages (from httpx>=0.25.2->langgraph-sdk<0.3.0,>=0.2.2->langgraph) (4.10.0)\n",
      "Requirement already satisfied: certifi in /Users/tc/Desktop/Curso - Geers AI/ai-geers-project/.venv/lib/python3.13/site-packages (from httpx>=0.25.2->langgraph-sdk<0.3.0,>=0.2.2->langgraph) (2025.8.3)\n",
      "Requirement already satisfied: httpcore==1.* in /Users/tc/Desktop/Curso - Geers AI/ai-geers-project/.venv/lib/python3.13/site-packages (from httpx>=0.25.2->langgraph-sdk<0.3.0,>=0.2.2->langgraph) (1.0.9)\n",
      "Requirement already satisfied: idna in /Users/tc/Desktop/Curso - Geers AI/ai-geers-project/.venv/lib/python3.13/site-packages (from httpx>=0.25.2->langgraph-sdk<0.3.0,>=0.2.2->langgraph) (3.10)\n",
      "Requirement already satisfied: h11>=0.16 in /Users/tc/Desktop/Curso - Geers AI/ai-geers-project/.venv/lib/python3.13/site-packages (from httpcore==1.*->httpx>=0.25.2->langgraph-sdk<0.3.0,>=0.2.2->langgraph) (0.16.0)\n",
      "Requirement already satisfied: langsmith>=0.3.45 in /Users/tc/Desktop/Curso - Geers AI/ai-geers-project/.venv/lib/python3.13/site-packages (from langchain-core>=0.1->langgraph) (0.4.27)\n",
      "Requirement already satisfied: tenacity!=8.4.0,<10.0.0,>=8.1.0 in /Users/tc/Desktop/Curso - Geers AI/ai-geers-project/.venv/lib/python3.13/site-packages (from langchain-core>=0.1->langgraph) (9.1.2)\n",
      "Requirement already satisfied: jsonpatch<2.0,>=1.33 in /Users/tc/Desktop/Curso - Geers AI/ai-geers-project/.venv/lib/python3.13/site-packages (from langchain-core>=0.1->langgraph) (1.33)\n",
      "Requirement already satisfied: PyYAML>=5.3 in /Users/tc/Desktop/Curso - Geers AI/ai-geers-project/.venv/lib/python3.13/site-packages (from langchain-core>=0.1->langgraph) (6.0.2)\n",
      "Requirement already satisfied: typing-extensions>=4.7 in /Users/tc/Desktop/Curso - Geers AI/ai-geers-project/.venv/lib/python3.13/site-packages (from langchain-core>=0.1->langgraph) (4.15.0)\n",
      "Requirement already satisfied: packaging>=23.2 in /Users/tc/Desktop/Curso - Geers AI/ai-geers-project/.venv/lib/python3.13/site-packages (from langchain-core>=0.1->langgraph) (25.0)\n",
      "Requirement already satisfied: jsonpointer>=1.9 in /Users/tc/Desktop/Curso - Geers AI/ai-geers-project/.venv/lib/python3.13/site-packages (from jsonpatch<2.0,>=1.33->langchain-core>=0.1->langgraph) (3.0.0)\n",
      "Requirement already satisfied: requests-toolbelt>=1.0.0 in /Users/tc/Desktop/Curso - Geers AI/ai-geers-project/.venv/lib/python3.13/site-packages (from langsmith>=0.3.45->langchain-core>=0.1->langgraph) (1.0.0)\n",
      "Requirement already satisfied: requests>=2.0.0 in /Users/tc/Desktop/Curso - Geers AI/ai-geers-project/.venv/lib/python3.13/site-packages (from langsmith>=0.3.45->langchain-core>=0.1->langgraph) (2.32.5)\n",
      "Requirement already satisfied: zstandard>=0.23.0 in /Users/tc/Desktop/Curso - Geers AI/ai-geers-project/.venv/lib/python3.13/site-packages (from langsmith>=0.3.45->langchain-core>=0.1->langgraph) (0.24.0)\n",
      "Requirement already satisfied: annotated-types>=0.6.0 in /Users/tc/Desktop/Curso - Geers AI/ai-geers-project/.venv/lib/python3.13/site-packages (from pydantic>=2.7.4->langgraph) (0.7.0)\n",
      "Requirement already satisfied: pydantic-core==2.33.2 in /Users/tc/Desktop/Curso - Geers AI/ai-geers-project/.venv/lib/python3.13/site-packages (from pydantic>=2.7.4->langgraph) (2.33.2)\n",
      "Requirement already satisfied: typing-inspection>=0.4.0 in /Users/tc/Desktop/Curso - Geers AI/ai-geers-project/.venv/lib/python3.13/site-packages (from pydantic>=2.7.4->langgraph) (0.4.1)\n",
      "Requirement already satisfied: charset_normalizer<4,>=2 in /Users/tc/Desktop/Curso - Geers AI/ai-geers-project/.venv/lib/python3.13/site-packages (from requests>=2.0.0->langsmith>=0.3.45->langchain-core>=0.1->langgraph) (3.4.3)\n",
      "Requirement already satisfied: urllib3<3,>=1.21.1 in /Users/tc/Desktop/Curso - Geers AI/ai-geers-project/.venv/lib/python3.13/site-packages (from requests>=2.0.0->langsmith>=0.3.45->langchain-core>=0.1->langgraph) (2.5.0)\n",
      "Requirement already satisfied: sniffio>=1.1 in /Users/tc/Desktop/Curso - Geers AI/ai-geers-project/.venv/lib/python3.13/site-packages (from anyio->httpx>=0.25.2->langgraph-sdk<0.3.0,>=0.2.2->langgraph) (1.3.1)\n",
      "Downloading langgraph-0.6.7-py3-none-any.whl (153 kB)\n",
      "Using cached langgraph_checkpoint-2.1.1-py3-none-any.whl (43 kB)\n",
      "Using cached langgraph_prebuilt-0.6.4-py3-none-any.whl (28 kB)\n",
      "Downloading langgraph_sdk-0.2.6-py3-none-any.whl (54 kB)\n",
      "Using cached ormsgpack-1.10.0-cp313-cp313-macosx_10_12_x86_64.macosx_11_0_arm64.macosx_10_12_universal2.whl (376 kB)\n",
      "Using cached xxhash-3.5.0-cp313-cp313-macosx_11_0_arm64.whl (30 kB)\n",
      "Installing collected packages: xxhash, ormsgpack, langgraph-sdk, langgraph-checkpoint, langgraph-prebuilt, langgraph\n",
      "\u001b[2K   \u001b[90m━━━━━━━━━━━━━━━━━━━━━━━━━━━━━━━━━━━━━━━━\u001b[0m \u001b[32m6/6\u001b[0m [langgraph]\n",
      "\u001b[1A\u001b[2KSuccessfully installed langgraph-0.6.7 langgraph-checkpoint-2.1.1 langgraph-prebuilt-0.6.4 langgraph-sdk-0.2.6 ormsgpack-1.10.0 xxhash-3.5.0\n",
      "Note: you may need to restart the kernel to use updated packages.\n"
     ]
    }
   ],
   "source": [
    "# %pip install langgraph --quiet"
   ]
  },
  {
   "cell_type": "markdown",
   "id": "eace2305",
   "metadata": {},
   "source": [
    "### Importaciones"
   ]
  },
  {
   "cell_type": "code",
   "execution_count": 36,
   "id": "0d0cc681",
   "metadata": {},
   "outputs": [],
   "source": [
    "from dotenv import load_dotenv\n",
    "import pandas as pd\n",
    "from pathlib import Path\n",
    "import json\n",
    "from dotenv import load_dotenv\n",
    "import os \n",
    "from IPython.display import Image, display, Markdown\n",
    "import pprint\n",
    "\n",
    "import sqlite3\n",
    "\n",
    "from langchain.chat_models import init_chat_model\n",
    "from langchain_community.utilities import SQLDatabase\n",
    "from langchain_community.agent_toolkits import SQLDatabaseToolkit\n",
    "from langgraph.prebuilt import create_react_agent\n",
    "from langchain_core.messages import BaseMessage, HumanMessage\n",
    "\n",
    "from typing import Literal\n",
    "from langchain_core.messages import AIMessage\n",
    "from langchain_core.runnables import RunnableConfig\n",
    "from langgraph.graph import END, START, MessagesState, StateGraph\n",
    "from langgraph.prebuilt import ToolNode\n"
   ]
  },
  {
   "cell_type": "markdown",
   "id": "3024c359",
   "metadata": {},
   "source": [
    "### Variables de entorno"
   ]
  },
  {
   "cell_type": "code",
   "execution_count": 3,
   "id": "164c4385",
   "metadata": {},
   "outputs": [
    {
     "data": {
      "text/plain": [
       "True"
      ]
     },
     "execution_count": 3,
     "metadata": {},
     "output_type": "execute_result"
    }
   ],
   "source": [
    "# Load environment variables from .env file\n",
    "load_dotenv()"
   ]
  },
  {
   "cell_type": "markdown",
   "id": "2c7ec87d",
   "metadata": {},
   "source": [
    "### preparar BBDD para consultar con langchain"
   ]
  },
  {
   "cell_type": "code",
   "execution_count": null,
   "id": "228e8ecf",
   "metadata": {},
   "outputs": [],
   "source": [
    "# This is a SQL wrapper provided by Langchain\n",
    "# Create the SQLite database from the SQL script if it doesn't exist\n",
    "db_path = Path(\"../01_setup/data/consultorio.db\")\n",
    "consultorio_db = SQLDatabase.from_uri(f\"sqlite:///{db_path}\")\n",
    "\n",
    "# Test the database\n",
    "print(f\"Available tables: {consultorio_db.get_usable_table_names()}\")\n",
    "pprint.pprint(f'Sample output: {consultorio_db.run(\"SELECT * FROM paciente LIMIT 5;\")}')\n",
    "pprint.pprint(f'Sample output: {consultorio_db.run(\"SELECT * FROM evolucion LIMIT 5;\")}')"
   ]
  },
  {
   "cell_type": "markdown",
   "id": "6e975a6e",
   "metadata": {},
   "source": [
    "### Seleccinar model con el cual interactuar"
   ]
  },
  {
   "cell_type": "code",
   "execution_count": null,
   "id": "f0f99300",
   "metadata": {},
   "outputs": [],
   "source": [
    "# Select an LLM\n",
    "# llm_model = \"openai:\"+os.getenv(\"OPENAI_MODEL\")\n",
    "llm_model = \"openai:gpt-4o\"\n",
    "print(llm_model)\n",
    "llm = init_chat_model(llm_model, temperature=0)"
   ]
  },
  {
   "cell_type": "markdown",
   "id": "f4cedf2e",
   "metadata": {},
   "source": [
    "### Preparar el toolkit creando una tool para que el modelo pueda consultar la BBDD"
   ]
  },
  {
   "cell_type": "code",
   "execution_count": null,
   "id": "65ff53c4",
   "metadata": {},
   "outputs": [],
   "source": [
    "toolkit = SQLDatabaseToolkit(db=consultorio_db, llm=llm)\n",
    "tools = toolkit.get_tools()\n",
    "for tool in tools:\n",
    "    print(f\"{tool.name}: {tool.description}\\n\")"
   ]
  },
  {
   "cell_type": "markdown",
   "id": "37aa5762",
   "metadata": {},
   "source": [
    "### Preparando prompt de consulta SQL"
   ]
  },
  {
   "cell_type": "code",
   "execution_count": 21,
   "id": "aa422ec7",
   "metadata": {},
   "outputs": [],
   "source": [
    "SYSTEM_PROMPT = \"\"\"\n",
    "Eres un agente diseñado para interactuar con una base de datos SQL.\n",
    "Dada una pregunta de entrada, crea una consulta {dialect} sintácticamente correcta para ejecutar,\n",
    "luego revisa los resultados de la consulta y devuelve la respuesta. A menos que el usuario\n",
    "especifique un número específico de ejemplos que desea obtener, limita siempre tu\n",
    "consulta a un máximo de {top_k} resultados.\n",
    "\n",
    "Puedes ordenar los resultados por una columna relevante para devolver los ejemplos más interesantes de la base de datos. Nunca consultes todas las columnas de una tabla específica,\n",
    "solo solicita las columnas relevantes según la pregunta.\n",
    "\n",
    "DEBES revisar tu consulta cuidadosamente antes de ejecutarla. Si obtienes un error al\n",
    "ejecutar una consulta, reescribe la consulta y vuelve a intentarlo.\n",
    "\n",
    "NO realices ninguna declaración DML (INSERT, UPDATE, DELETE, DROP, etc.) en la\n",
    "base de datos.\n",
    "\n",
    "Para comenzar, SIEMPRE debes revisar las tablas en la base de datos para ver qué puedes consultar. NO omitas este paso.\n",
    "\n",
    "Luego debes consultar el esquema de las tablas más relevantes.\n",
    "\"\"\".format(\n",
    "    dialect=consultorio_db.dialect,\n",
    "    top_k=5,\n",
    ")\n",
    "\n",
    "agent = create_react_agent(\n",
    "    llm,\n",
    "    tools,\n",
    "    prompt=SYSTEM_PROMPT,\n",
    ")"
   ]
  },
  {
   "cell_type": "markdown",
   "id": "8cb6717a",
   "metadata": {},
   "source": [
    "---"
   ]
  },
  {
   "cell_type": "markdown",
   "id": "dd794e39",
   "metadata": {},
   "source": [
    "## Consulta #1\n",
    "Técnica:\n",
    "- Usar tool de lanchain y pasarle la tool al modelo para que sepa que puede resolver la consulta disponiendo de las herramientas que le provee el tool\n",
    "Consulta\n",
    "- Obtener top 3 de pacientes con mas consultas hechas"
   ]
  },
  {
   "cell_type": "code",
   "execution_count": null,
   "id": "b71b0c50",
   "metadata": {},
   "outputs": [],
   "source": [
    "question = \"Obtener los tres pacientes que más evoluciones tienen registradas. Como salida necesito el id_paciente, nombre y apellido y número de evoluciones.\"\n",
    "\n",
    "for step in agent.stream(\n",
    "    {\"messages\": [{\"role\": \"user\", \"content\": question}]},\n",
    "    stream_mode=\"values\",\n",
    "):\n",
    "    step[\"messages\"][-1].pretty_print()"
   ]
  },
  {
   "cell_type": "markdown",
   "id": "d653cc4f",
   "metadata": {},
   "source": [
    "consulta SQL para comprobar que el resultado anterior es correcto"
   ]
  },
  {
   "cell_type": "code",
   "execution_count": 30,
   "id": "8fcc39a9",
   "metadata": {},
   "outputs": [],
   "source": [
    "sql_query = \"\"\"\n",
    "SELECT p.id_paciente, p.nombre, p.apellido, COUNT(e.id) AS numero_evoluciones\n",
    "FROM paciente p\n",
    "JOIN evolucion e ON p.id_paciente = e.id_paciente\n",
    "GROUP BY p.id_paciente, p.nombre, p.apellido\n",
    "ORDER BY numero_evoluciones DESC\n",
    "LIMIT 3;\n",
    "\"\"\""
   ]
  },
  {
   "cell_type": "code",
   "execution_count": 39,
   "id": "caec5fa1",
   "metadata": {},
   "outputs": [
    {
     "name": "stdout",
     "output_type": "stream",
     "text": [
      "   id_paciente            nombre      apellido  numero_evoluciones\n",
      "0          172               Leo      Martínez                   3\n",
      "1          247           Luciana      Gonzalez                   3\n",
      "2          280  Matías Alejandro  López Torres                   3\n"
     ]
    }
   ],
   "source": [
    "def query_to_database(query, db):\n",
    "    # 1. Connect to the SQLite database\n",
    "    conn = sqlite3.connect(db)\n",
    "\n",
    "    try:\n",
    "        df = pd.read_sql_query(query, conn)\n",
    "        print(df)\n",
    "    except sqlite3.Error as e:\n",
    "        print(f\"An error occurred: {e}\")\n",
    "    finally:\n",
    "        conn.close()\n",
    "\n",
    "query_to_database(sql_query, '../01_setup/data/consultorio.db')  "
   ]
  },
  {
   "cell_type": "markdown",
   "id": "f45224b3",
   "metadata": {},
   "source": [
    "---"
   ]
  },
  {
   "cell_type": "markdown",
   "id": "2b495023",
   "metadata": {},
   "source": [
    "## Consulta #2"
   ]
  },
  {
   "cell_type": "markdown",
   "id": "f16a720a",
   "metadata": {},
   "source": []
  }
 ],
 "metadata": {
  "kernelspec": {
   "display_name": ".venv",
   "language": "python",
   "name": "python3"
  },
  "language_info": {
   "codemirror_mode": {
    "name": "ipython",
    "version": 3
   },
   "file_extension": ".py",
   "mimetype": "text/x-python",
   "name": "python",
   "nbconvert_exporter": "python",
   "pygments_lexer": "ipython3",
   "version": "3.13.5"
  }
 },
 "nbformat": 4,
 "nbformat_minor": 5
}
