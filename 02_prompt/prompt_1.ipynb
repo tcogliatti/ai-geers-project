{
 "cells": [
  {
   "cell_type": "markdown",
   "id": "8ea67ff9",
   "metadata": {},
   "source": [
    "# *Archivo para probar los prompt*"
   ]
  },
  {
   "cell_type": "markdown",
   "id": "bc2cf919",
   "metadata": {},
   "source": [
    "## Instalaciones"
   ]
  },
  {
   "cell_type": "code",
   "execution_count": null,
   "id": "70cc0068",
   "metadata": {},
   "outputs": [],
   "source": [
    "%pip install pandas"
   ]
  },
  {
   "cell_type": "markdown",
   "id": "e54b90d6",
   "metadata": {},
   "source": [
    "## Obtener un paciente con su evolucion\n",
    "Se hace una consulta a la BBDD para conseguir el historial de consultas de un paciente dado por su id de Paciente\n",
    "\n",
    "Pacientes top 5 con mas consultas:\n",
    "- id 172, Leo Martínez, consultas 3\n",
    "- id 247, Luciana Gonzalez, consultas 3\n",
    "- id 280, Matías Alejandro López Torres, consultas 3\n",
    "- id 131, Lucas González, consultas 2\n",
    "- id 153, Leonardo Martinez, consultas 2"
   ]
  },
  {
   "cell_type": "code",
   "execution_count": null,
   "id": "73db8646",
   "metadata": {},
   "outputs": [],
   "source": [
    "import sqlite3\n",
    "import pandas as pd\n",
    "import pprint\n",
    "\n",
    "def query_to_database(query, db):\n",
    "    # 1. Connect to the SQLite database\n",
    "    conn = sqlite3.connect(db)\n",
    "\n",
    "    try:\n",
    "        df = pd.read_sql_query(query, conn)\n",
    "        # print(df)\n",
    "    except sqlite3.Error as e:\n",
    "        print(f\"An error occurred: {e}\")\n",
    "    finally:\n",
    "        conn.close()\n",
    "        return df\n",
    "\n",
    "# Obtener evolucion de un paciente\n",
    "id_paciente = 172\n",
    "sql_query_evolucion = f\"\"\"\n",
    "SELECT * FROM evolucion WHERE id_paciente = {id_paciente};\n",
    "\"\"\"\n",
    "evolucion_df = query_to_database(sql_query_evolucion, '../01_setup/data/consultorio.db')\n",
    "\n",
    "# Obtener datos personales del paciente\n",
    "sql_query_paciente = f\"\"\"\n",
    "SELECT * FROM paciente WHERE id_paciente = {id_paciente};\n",
    "\"\"\"\n",
    "paciente_df =query_to_database(sql_query_paciente, '../01_setup/data/consultorio.db')\n",
    "\n",
    "# print(\"Datos paciente:\")\n",
    "# pprint.pprint(paciente_df) \n",
    "# print(\"Evolucion del paciente:\")\n",
    "# pprint.pprint(evolucion_df)\n"
   ]
  },
  {
   "cell_type": "markdown",
   "id": "f0942ef4",
   "metadata": {},
   "source": [
    "## Test de propt"
   ]
  },
  {
   "cell_type": "markdown",
   "id": "f68082b1",
   "metadata": {},
   "source": [
    "### preparacion de datos de paciente y evoluciones"
   ]
  },
  {
   "cell_type": "markdown",
   "id": "adad69bb",
   "metadata": {},
   "source": [
    "Formateo de clases"
   ]
  },
  {
   "cell_type": "code",
   "execution_count": 15,
   "id": "40506c7c",
   "metadata": {},
   "outputs": [],
   "source": [
    "# configurar el parser de salida\n",
    "from typing import Optional\n",
    "from pydantic import BaseModel, Field\n",
    "\n",
    "class Paciente(BaseModel):\n",
    "    id_paciente: int = Field(...)\n",
    "    apellido: str = Field(...)\n",
    "    nombre: str = Field(...)\n",
    "    fecha_nac: str = Field(...)\n",
    "    sexo: str = Field(...)\n",
    "    edad: str = Field(...)\n",
    "    dni: str = Field(...)\n",
    "    localidad: str = Field(...)\n",
    "    obra_social: str = Field(...)\n",
    "    afiliado_nro: str = Field(...)\n",
    "    telefono: str = Field(...)\n",
    "    telefono_numero: str = Field(...)\n",
    "    email: str = Field(...)\n",
    "    especialidad: str = Field(...)\n",
    "    diagnostico: str = Field(...)\n",
    "    enfermedad_base: str = Field(...)\n",
    "    ant_perinatales: str = Field(...)\n",
    "    ant_familiares: str = Field(...)\n",
    "    registro: str = Field(...)\n",
    "    fecha_registro: str = Field(...)\n",
    "    \n",
    "class Evolucion(BaseModel):\n",
    "    id: int = Field(...)\n",
    "    id_paciente: int = Field(...)\n",
    "    fecha: str = Field(...)\n",
    "    edad: int = Field(...)\n",
    "    uni_edad: Optional[str] = Field(None)\n",
    "    edad_anios: float = Field(...)\n",
    "    edad_texto: str = Field(...)\n",
    "    peso: float = Field(...)\n",
    "    talla: float = Field(...)\n",
    "    imc: float = Field(...)\n",
    "    pc: float = Field(...)\n",
    "    motivo: str = Field(...)\n",
    "    conducta: Optional[str] = Field(None)"
   ]
  },
  {
   "cell_type": "markdown",
   "id": "0a9f647f",
   "metadata": {},
   "source": [
    "Creando objetos con los datos de paciente y evoluciones"
   ]
  },
  {
   "cell_type": "code",
   "execution_count": null,
   "id": "f2bc210c",
   "metadata": {},
   "outputs": [
    {
     "name": "stdout",
     "output_type": "stream",
     "text": [
      "Paciente(id_paciente=172, apellido='Martínez', nombre='Leo', fecha_nac='2025-10-26', sexo='Varón', edad='6 meses', dni='70.493.370', localidad='Olavarría', obra_social='IOSFA', afiliado_nro='70494307', telefono='1145678901', telefono_numero='1145678901', email='leo.martinez@mail.com', especialidad='Pediátrico', diagnostico='Otra', enfermedad_base='Control de salud ', ant_perinatales='RNT 37 sem, parto, no internación en neonatología', ant_familiares='Antecedente materno de anemia en embarazo', registro='Secretaria', fecha_registro='Mon May 05 2025 15:23:22')\n"
     ]
    }
   ],
   "source": [
    "paciente = Paciente(**paciente_df.to_dict(orient='records')[0])\n",
    "evoluciones = [Evolucion(**item) for item in evolucion_df.to_dict(orient='records')]\n",
    "\n",
    "# pprint.pprint(paciente)\n",
    "# pprint.pprint(evoluciones)"
   ]
  },
  {
   "cell_type": "markdown",
   "id": "39c5b224",
   "metadata": {},
   "source": [
    "### Preparacion de Prompt"
   ]
  },
  {
   "cell_type": "code",
   "execution_count": null,
   "id": "129e3e10",
   "metadata": {},
   "outputs": [],
   "source": [
    "from langchain.prompts import PromptTemplate\n",
    "from langchain_core.output_parsers import StrOutputParser\n",
    "\n",
    "prompt = PromptTemplate(\n",
    "    input=[\"paciente\", \"evoluciones\"],\n",
    "    template=\"\"\"\n",
    "    ### preparacion de datos de paciente y evoluciones\n",
    "        Paciente: {paciente}\n",
    "        Evoluciones: {evoluciones}\n",
    "    ### Preparacion de Prompt\n",
    "        Eres un asistente que ayuda a redactar notas medicas a partir de los datos del paciente y sus evoluciones. Tu tarea es generar un resumen de la historia clinica del paciente, incluyendo los datos relevantes de las evoluciones.\n",
    "        Debes tener en cuenta:\n",
    "            - que las evoluciones pueden tener diferentes formatos y contenidos, por lo que debes ser capaz de interpretar y sintetizar la informacion de manera coherente.\n",
    "            - cruzar informacion de las diferentes evoluciones para identificar patrones, cambios y tendencias en la salud del paciente.\n",
    "            - cruzar los antecendentes personales y familiares del paciente, asi como su diagnostico y enfermedad base.\n",
    "    ### Salida esperada:\n",
    "        Se espera que la salida sea un texto en uno o dos parrafos\n",
    "        El texto debe ser claro y conciso, utilizando lenguaje medico apropiado.\n",
    "        Al comenzar la redaccion, incluye una breve introduccion con los datos personales del paciente (nombre, edad, diagnostico -si es que lo tiene-, enfermedad base -si es que lo tiene-).\n",
    "        Cada patron, tendencia o cambio identificado debe ser explicado de manera clara y breve precisa en un parrafo aparte, utilizando como dato de referencia la fecha de la evolucion en la que se toma la informacion.\n",
    "    \"\"\",\n",
    "    output_parser=StrOutputParser()\n",
    ")"
   ]
  },
  {
   "cell_type": "markdown",
   "id": "ac5fd42c",
   "metadata": {},
   "source": [
    "### Consulta al Modelo\n",
    "preparando modelo"
   ]
  },
  {
   "cell_type": "code",
   "execution_count": 20,
   "id": "cc53aa8b",
   "metadata": {},
   "outputs": [],
   "source": [
    "from langchain_openai import ChatOpenAI\n",
    "import os\n",
    "\n",
    "# Configurar la API key de OpenAI\n",
    "openai_api_key = os.getenv(\"OPENAI_API_KEY\")\n",
    "llm_model = \"gpt-4o-mini\"\n",
    "llm = ChatOpenAI(openai_api_key=openai_api_key, model = llm_model, temperature=0.7)"
   ]
  },
  {
   "cell_type": "markdown",
   "id": "7df57d6e",
   "metadata": {},
   "source": [
    "obteniendo resultados"
   ]
  },
  {
   "cell_type": "code",
   "execution_count": 23,
   "id": "479731e1",
   "metadata": {},
   "outputs": [
    {
     "name": "stdout",
     "output_type": "stream",
     "text": [
      "('**Historia Clínica del Paciente**\\n'\n",
      " '\\n'\n",
      " '**Datos del Paciente:**\\n'\n",
      " '- **Nombre:** Leo Martínez\\n'\n",
      " '- **Edad:** 6 meses\\n'\n",
      " '- **Diagnóstico:** Otra\\n'\n",
      " '- **Enfermedad Base:** Control de salud\\n'\n",
      " '- **DNI:** 70.493.370\\n'\n",
      " '- **Localidad:** Olavarría\\n'\n",
      " '- **Obra Social:** IOSFA\\n'\n",
      " '- **Teléfono:** 1145678901\\n'\n",
      " '- **Email:** leo.martinez@mail.com\\n'\n",
      " '\\n'\n",
      " '**Antecedentes:**\\n'\n",
      " '- **Personales:** RNT 37 sem, parto, sin internación en neonatología.\\n'\n",
      " '- **Familiares:** Antecedente materno de anemia durante el embarazo.\\n'\n",
      " '\\n'\n",
      " '**Evoluciones:**\\n'\n",
      " '\\n'\n",
      " '1. **Evolución del 09/05/2025:**\\n'\n",
      " '   - **Edad:** 6 meses\\n'\n",
      " '   - **Peso:** 7.8 kg\\n'\n",
      " '   - **Talla:** 65.0 cm\\n'\n",
      " '   - **IMC:** 18.46\\n'\n",
      " '   - **Perímetro Cefálico (PC):** 43.0 cm\\n'\n",
      " '   - **Motivo de Consulta:** Control de salud\\n'\n",
      " '   - **Conducta:** Se recomienda continuar con la suplementación de sulfato '\n",
      " 'ferroso (0.6 ml/día) y vitaminas ADC (0.3 ml/día). Se programó una ecografía '\n",
      " 'de cadera a los 9 meses debido a la falta de osificación del núcleo femoral. '\n",
      " 'La ecografía realizada el 11/07/2025 resultó normal. Se dio orden para '\n",
      " 'evaluación cardiológica.\\n'\n",
      " '\\n'\n",
      " '2. **Evolución del 11/06/2025:**\\n'\n",
      " '   - **Edad:** 8 meses\\n'\n",
      " '   - **Peso:** 7.9 kg\\n'\n",
      " '   - **Talla:** 66.0 cm\\n'\n",
      " '   - **IMC:** 18.14\\n'\n",
      " '   - **PC:** 44.0 cm\\n'\n",
      " '   - **Motivo de Consulta:** Control de salud\\n'\n",
      " '   - **Conducta:** Se encuentra cursando bronquiolitis.\\n'\n",
      " '\\n'\n",
      " '3. **Evolución del 18/07/2025:**\\n'\n",
      " '   - **Edad:** 9 meses\\n'\n",
      " '   - **Peso:** 7.9 kg\\n'\n",
      " '   - **Talla:** 67.0 cm\\n'\n",
      " '   - **IMC:** 17.6\\n'\n",
      " '   - **PC:** 43.0 cm\\n'\n",
      " '   - **Motivo de Consulta:** Control de salud\\n'\n",
      " '   - **Conducta:** Sin conducta especificada.\\n'\n",
      " '\\n'\n",
      " '**Resumen:**\\n'\n",
      " 'Leo Martínez, un paciente de 6 meses, se encuentra bajo control médico por '\n",
      " 'condiciones generales de salud. Desde su primer control, ha presentado un '\n",
      " 'crecimiento adecuado en peso y talla, aunque con un ligero descenso en el '\n",
      " 'IMC en la última evolución. Se han implementado medidas preventivas como la '\n",
      " 'suplementación de hierro y vitaminas, y se ha realizado un seguimiento por '\n",
      " 'posible anomalía en la ecografía de cadera, la cual resultó normal. En la '\n",
      " 'evolución del 11 de junio, se diagnosticó bronquiolitis, lo que requiere un '\n",
      " 'seguimiento adicional. Es importante continuar monitorizando su crecimiento '\n",
      " 'y desarrollo, así como abordar los antecedentes familiares de anemia para '\n",
      " 'prevenir complicaciones futuras. Se recomienda atención continua y '\n",
      " 'revisiones periódicas.')\n"
     ]
    }
   ],
   "source": [
    "chain = prompt | llm | StrOutputParser()\n",
    "input_data = {\n",
    "    \"paciente\": paciente,\n",
    "    \"evoluciones\": evoluciones\n",
    "}\n",
    "respuesta = chain.invoke(input = input_data)\n",
    "pprint.pprint(respuesta)"
   ]
  },
  {
   "cell_type": "code",
   "execution_count": null,
   "id": "eb27a876",
   "metadata": {},
   "outputs": [
    {
     "name": "stdout",
     "output_type": "stream",
     "text": [
      "--- Ejemplo de un prompt generado ---\n",
      "No se encontró el paciente con el ID 2.\n"
     ]
    }
   ],
   "source": [
    "import pandas as pd\n",
    "\n",
    "# Convertir la columna 'fecha' en la tabla de evolucion a formato de fecha\n",
    "df_combinado['fecha'] = pd.to_datetime(df_combinado['fecha'], errors='coerce')\n",
    "\n",
    "# Diccionario para almacenar los prompts de cada paciente\n",
    "prompts_por_paciente = {}\n",
    "\n",
    "# Agrupar el DataFrame por id_paciente\n",
    "pacientes_agrupados = df_combinado.groupby('id_paciente')\n",
    "\n",
    "# Iterar sobre cada grupo de paciente\n",
    "for id_paciente, grupo_paciente in pacientes_agrupados:\n",
    "    # Obtener los datos del paciente\n",
    "    paciente = grupo_paciente.iloc[0]\n",
    "\n",
    "    # Ordenar las evoluciones del paciente por fecha y eliminar los valores NaT\n",
    "    # La eliminación de NaT previene el error 'AttributeError: float'\n",
    "    evoluciones_ordenadas = grupo_paciente.dropna(subset=['fecha']).sort_values(by='fecha')\n",
    "\n",
    "    # Construir la sección de evoluciones como una cadena de texto\n",
    "    evoluciones_texto = \"\"\n",
    "    if not evoluciones_ordenadas.empty:\n",
    "        for index, evolucion in evoluciones_ordenadas.iterrows():\n",
    "            evoluciones_texto += (\n",
    "                f\"- Fecha: {evolucion['fecha'].strftime('%Y-%m-%d')}\\n\"\n",
    "                f\"  Motivo: {evolucion['motivo']}\\n\"\n",
    "                f\"  Conducta: {evolucion['conducta']}\\n\\n\"\n",
    "            )\n",
    "    else:\n",
    "        evoluciones_texto = \"No se encontraron evoluciones para este paciente.\\n\\n\"\n",
    "\n",
    "    # Crear el prompt completo del paciente\n",
    "    prompt_completo = f\"\"\"Historia Clínica del Paciente:\n",
    "- Nombre: {paciente['nombre']} {paciente['apellido']}\n",
    "- DNI: {paciente['dni']}\n",
    "- Fecha de Nacimiento: {paciente['fecha_nac']}\n",
    "- Sexo: {paciente['sexo']}\n",
    "- Especialidad: {paciente['especialidad']}\n",
    "- Diagnóstico Principal: {paciente['diagnostico']}\n",
    "- Enfermedad de Base: {paciente['enfermedad_base']}\n",
    "- Antecedentes Perinatales: {paciente['ant_perinatales']}\n",
    "- Antecedentes Familiares: {paciente['ant_familiares']}\n",
    "\n",
    "Evoluciones del Paciente:\n",
    "{evoluciones_texto}\n",
    "\"\"\"\n",
    "prompts_por_paciente[id_paciente] = prompt_completo\n",
    "\n",
    "# Ejemplo de cómo se vería un prompt\n",
    "print(\"--- Ejemplo de un prompt generado ---\")\n",
    "# Puedes cambiar el ID para ver el prompt de otro paciente\n",
    "ejemplo_prompt = prompts_por_paciente.get(150, \"No se encontró el paciente con el ID 2.\")\n",
    "print(ejemplo_prompt)\n"
   ]
  },
  {
   "cell_type": "code",
   "execution_count": null,
   "id": "3f9ece69",
   "metadata": {},
   "outputs": [],
   "source": [
    "# Instalar openai para generar agente\n",
    "%pip install openai"
   ]
  },
  {
   "cell_type": "code",
   "execution_count": 5,
   "id": "1b2ad50b",
   "metadata": {},
   "outputs": [],
   "source": [
    "import openai\n",
    "from dotenv import load_dotenv\n",
    "import os\n",
    "\n",
    "#Cargar las variables del archivo env con la key\n",
    "#El archivo esta en la carpeta 02_prompt y posee el arhivo setup_openia.env\n",
    "load_dotenv()\n",
    "\n",
    "#Configurar la api key de openia\n",
    "openai.api_key = os.getenv(\"OPENAI_key\")"
   ]
  }
 ],
 "metadata": {
  "kernelspec": {
   "display_name": ".venv",
   "language": "python",
   "name": "python3"
  },
  "language_info": {
   "codemirror_mode": {
    "name": "ipython",
    "version": 3
   },
   "file_extension": ".py",
   "mimetype": "text/x-python",
   "name": "python",
   "nbconvert_exporter": "python",
   "pygments_lexer": "ipython3",
   "version": "3.13.5"
  }
 },
 "nbformat": 4,
 "nbformat_minor": 5
}
