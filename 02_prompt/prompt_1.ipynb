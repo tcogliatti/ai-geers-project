{
 "cells": [
  {
   "cell_type": "markdown",
   "id": "8ea67ff9",
   "metadata": {},
   "source": [
    "# *Archivo para probar los prompt*"
   ]
  },
  {
   "cell_type": "markdown",
   "id": "e54b90d6",
   "metadata": {},
   "source": [
    "## Obtener un paciente con su evolucion\n",
    "Se hace una consulta a la BBDD para conseguir el historial de consultas de un paciente dado por su id de Paciente"
   ]
  },
  {
   "cell_type": "code",
   "execution_count": null,
   "id": "73db8646",
   "metadata": {},
   "outputs": [],
   "source": []
  },
  {
   "cell_type": "markdown",
   "id": "f0942ef4",
   "metadata": {},
   "source": [
    "# Test de propt"
   ]
  },
  {
   "cell_type": "code",
   "execution_count": 1,
   "id": "632e20cb",
   "metadata": {},
   "outputs": [
    {
     "name": "stdout",
     "output_type": "stream",
     "text": [
      "Defaulting to user installation because normal site-packages is not writeable\n",
      "Requirement already satisfied: pandas in c:\\users\\dev\\appdata\\roaming\\python\\python313\\site-packages (2.3.2)\n",
      "Requirement already satisfied: numpy>=1.26.0 in c:\\users\\dev\\appdata\\roaming\\python\\python313\\site-packages (from pandas) (2.3.3)\n",
      "Requirement already satisfied: python-dateutil>=2.8.2 in c:\\users\\dev\\appdata\\roaming\\python\\python313\\site-packages (from pandas) (2.9.0.post0)\n",
      "Requirement already satisfied: pytz>=2020.1 in c:\\users\\dev\\appdata\\roaming\\python\\python313\\site-packages (from pandas) (2025.2)\n",
      "Requirement already satisfied: tzdata>=2022.7 in c:\\users\\dev\\appdata\\roaming\\python\\python313\\site-packages (from pandas) (2025.2)\n",
      "Requirement already satisfied: six>=1.5 in c:\\python313\\lib\\site-packages (from python-dateutil>=2.8.2->pandas) (1.17.0)\n",
      "Note: you may need to restart the kernel to use updated packages.\n"
     ]
    }
   ],
   "source": [
    "%pip install pandas\n",
    "import pandas as pd\n",
    "import json\n",
    "\n",
    "pacientes_path = '../01_setup/data/json/pacientes.json'\n",
    "evolucion_path = '../01_setup/data/json/evolucion.json'\n",
    "\n",
    "#Cargar datos de los pacientes\n",
    "with open(pacientes_path, 'r', encoding='utf-8') as f:\n",
    "    pacientes_data = json.load(f)\n",
    "df_pacientes = pd.DataFrame(pacientes_data[2]['data'])\n",
    "\n",
    "#Cargas las evoluciones\n",
    "with open(evolucion_path, 'r', encoding='utf-8') as f:\n",
    "    evolucion_data = json.load(f)\n",
    "df_evolucion = pd.DataFrame(evolucion_data[2]['data'])\n",
    "\n",
    "#Fusion\n",
    "df_pacientes['id_paciente'] = df_pacientes['id_paciente'].astype(int)\n",
    "df_evolucion['id_paciente'] = df_evolucion['id_paciente'].astype(int)\n",
    "df_combinado = pd.merge(df_pacientes, df_evolucion, on='id_paciente', how='left')\n",
    "\n"
   ]
  },
  {
   "cell_type": "markdown",
   "id": "f68082b1",
   "metadata": {},
   "source": [
    "Formateo de texto para LLM"
   ]
  },
  {
   "cell_type": "code",
   "execution_count": 2,
   "id": "eb27a876",
   "metadata": {},
   "outputs": [
    {
     "name": "stdout",
     "output_type": "stream",
     "text": [
      "--- Ejemplo de un prompt generado ---\n",
      "No se encontró el paciente con el ID 2.\n"
     ]
    }
   ],
   "source": [
    "import pandas as pd\n",
    "\n",
    "# Convertir la columna 'fecha' en la tabla de evolucion a formato de fecha\n",
    "df_combinado['fecha'] = pd.to_datetime(df_combinado['fecha'], errors='coerce')\n",
    "\n",
    "# Diccionario para almacenar los prompts de cada paciente\n",
    "prompts_por_paciente = {}\n",
    "\n",
    "# Agrupar el DataFrame por id_paciente\n",
    "pacientes_agrupados = df_combinado.groupby('id_paciente')\n",
    "\n",
    "# Iterar sobre cada grupo de paciente\n",
    "for id_paciente, grupo_paciente in pacientes_agrupados:\n",
    "    # Obtener los datos del paciente\n",
    "    paciente = grupo_paciente.iloc[0]\n",
    "\n",
    "    # Ordenar las evoluciones del paciente por fecha y eliminar los valores NaT\n",
    "    # La eliminación de NaT previene el error 'AttributeError: float'\n",
    "    evoluciones_ordenadas = grupo_paciente.dropna(subset=['fecha']).sort_values(by='fecha')\n",
    "\n",
    "    # Construir la sección de evoluciones como una cadena de texto\n",
    "    evoluciones_texto = \"\"\n",
    "    if not evoluciones_ordenadas.empty:\n",
    "        for index, evolucion in evoluciones_ordenadas.iterrows():\n",
    "            evoluciones_texto += (\n",
    "                f\"- Fecha: {evolucion['fecha'].strftime('%Y-%m-%d')}\\n\"\n",
    "                f\"  Motivo: {evolucion['motivo']}\\n\"\n",
    "                f\"  Conducta: {evolucion['conducta']}\\n\\n\"\n",
    "            )\n",
    "    else:\n",
    "        evoluciones_texto = \"No se encontraron evoluciones para este paciente.\\n\\n\"\n",
    "\n",
    "    # Crear el prompt completo del paciente\n",
    "    prompt_completo = f\"\"\"Historia Clínica del Paciente:\n",
    "- Nombre: {paciente['nombre']} {paciente['apellido']}\n",
    "- DNI: {paciente['dni']}\n",
    "- Fecha de Nacimiento: {paciente['fecha_nac']}\n",
    "- Sexo: {paciente['sexo']}\n",
    "- Especialidad: {paciente['especialidad']}\n",
    "- Diagnóstico Principal: {paciente['diagnostico']}\n",
    "- Enfermedad de Base: {paciente['enfermedad_base']}\n",
    "- Antecedentes Perinatales: {paciente['ant_perinatales']}\n",
    "- Antecedentes Familiares: {paciente['ant_familiares']}\n",
    "\n",
    "Evoluciones del Paciente:\n",
    "{evoluciones_texto}\n",
    "\"\"\"\n",
    "prompts_por_paciente[id_paciente] = prompt_completo\n",
    "\n",
    "# Ejemplo de cómo se vería un prompt\n",
    "print(\"--- Ejemplo de un prompt generado ---\")\n",
    "# Puedes cambiar el ID para ver el prompt de otro paciente\n",
    "ejemplo_prompt = prompts_por_paciente.get(150, \"No se encontró el paciente con el ID 2.\")\n",
    "print(ejemplo_prompt)\n"
   ]
  },
  {
   "cell_type": "code",
   "execution_count": 4,
   "id": "3f9ece69",
   "metadata": {},
   "outputs": [
    {
     "name": "stdout",
     "output_type": "stream",
     "text": [
      "Defaulting to user installation because normal site-packages is not writeable\n",
      "Requirement already satisfied: openai in c:\\users\\dev\\appdata\\roaming\\python\\python313\\site-packages (1.107.2)\n",
      "Requirement already satisfied: anyio<5,>=3.5.0 in c:\\users\\dev\\appdata\\roaming\\python\\python313\\site-packages (from openai) (4.10.0)\n",
      "Requirement already satisfied: distro<2,>=1.7.0 in c:\\users\\dev\\appdata\\roaming\\python\\python313\\site-packages (from openai) (1.9.0)\n",
      "Requirement already satisfied: httpx<1,>=0.23.0 in c:\\users\\dev\\appdata\\roaming\\python\\python313\\site-packages (from openai) (0.28.1)\n",
      "Requirement already satisfied: jiter<1,>=0.4.0 in c:\\users\\dev\\appdata\\roaming\\python\\python313\\site-packages (from openai) (0.10.0)\n",
      "Requirement already satisfied: pydantic<3,>=1.9.0 in c:\\users\\dev\\appdata\\roaming\\python\\python313\\site-packages (from openai) (2.11.9)\n",
      "Requirement already satisfied: sniffio in c:\\users\\dev\\appdata\\roaming\\python\\python313\\site-packages (from openai) (1.3.1)\n",
      "Requirement already satisfied: tqdm>4 in c:\\users\\dev\\appdata\\roaming\\python\\python313\\site-packages (from openai) (4.67.1)\n",
      "Requirement already satisfied: typing-extensions<5,>=4.11 in c:\\python313\\lib\\site-packages (from openai) (4.14.1)\n",
      "Requirement already satisfied: idna>=2.8 in c:\\users\\dev\\appdata\\roaming\\python\\python313\\site-packages (from anyio<5,>=3.5.0->openai) (3.10)\n",
      "Requirement already satisfied: certifi in c:\\users\\dev\\appdata\\roaming\\python\\python313\\site-packages (from httpx<1,>=0.23.0->openai) (2025.8.3)\n",
      "Requirement already satisfied: httpcore==1.* in c:\\users\\dev\\appdata\\roaming\\python\\python313\\site-packages (from httpx<1,>=0.23.0->openai) (1.0.9)\n",
      "Requirement already satisfied: h11>=0.16 in c:\\users\\dev\\appdata\\roaming\\python\\python313\\site-packages (from httpcore==1.*->httpx<1,>=0.23.0->openai) (0.16.0)\n",
      "Requirement already satisfied: annotated-types>=0.6.0 in c:\\users\\dev\\appdata\\roaming\\python\\python313\\site-packages (from pydantic<3,>=1.9.0->openai) (0.7.0)\n",
      "Requirement already satisfied: pydantic-core==2.33.2 in c:\\users\\dev\\appdata\\roaming\\python\\python313\\site-packages (from pydantic<3,>=1.9.0->openai) (2.33.2)\n",
      "Requirement already satisfied: typing-inspection>=0.4.0 in c:\\users\\dev\\appdata\\roaming\\python\\python313\\site-packages (from pydantic<3,>=1.9.0->openai) (0.4.1)\n",
      "Requirement already satisfied: colorama in c:\\users\\dev\\appdata\\roaming\\python\\python313\\site-packages (from tqdm>4->openai) (0.4.6)\n",
      "Note: you may need to restart the kernel to use updated packages.\n"
     ]
    }
   ],
   "source": [
    "# Instalar openai para generar agente\n",
    "%pip install openai"
   ]
  },
  {
   "cell_type": "code",
   "execution_count": 5,
   "id": "1b2ad50b",
   "metadata": {},
   "outputs": [],
   "source": [
    "import openai\n",
    "from dotenv import load_dotenv\n",
    "import os\n",
    "\n",
    "#Cargar las variables del archivo env con la key\n",
    "#El archivo esta en la carpeta 02_prompt y posee el arhivo setup_openia.env\n",
    "load_dotenv()\n",
    "\n",
    "#Configurar la api key de openia\n",
    "openai.api_key = os.getenv(\"OPENAI_key\")"
   ]
  }
 ],
 "metadata": {
  "kernelspec": {
   "display_name": "Python 3",
   "language": "python",
   "name": "python3"
  },
  "language_info": {
   "codemirror_mode": {
    "name": "ipython",
    "version": 3
   },
   "file_extension": ".py",
   "mimetype": "text/x-python",
   "name": "python",
   "nbconvert_exporter": "python",
   "pygments_lexer": "ipython3",
   "version": "3.13.1"
  }
 },
 "nbformat": 4,
 "nbformat_minor": 5
}
