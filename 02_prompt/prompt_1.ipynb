{
 "cells": [
  {
   "cell_type": "markdown",
   "id": "8ea67ff9",
   "metadata": {},
   "source": [
    "# *Archivo para probar los prompt*"
   ]
  },
  {
   "cell_type": "markdown",
   "id": "bc2cf919",
   "metadata": {},
   "source": [
    "## Instalaciones"
   ]
  },
  {
   "cell_type": "code",
   "execution_count": 37,
   "id": "70cc0068",
   "metadata": {},
   "outputs": [
    {
     "name": "stdout",
     "output_type": "stream",
     "text": [
      "Defaulting to user installation because normal site-packages is not writeable\n",
      "Requirement already satisfied: pandas in c:\\users\\dev\\appdata\\roaming\\python\\python313\\site-packages (2.3.2)\n",
      "Requirement already satisfied: numpy>=1.26.0 in c:\\users\\dev\\appdata\\roaming\\python\\python313\\site-packages (from pandas) (2.3.3)\n",
      "Requirement already satisfied: python-dateutil>=2.8.2 in c:\\users\\dev\\appdata\\roaming\\python\\python313\\site-packages (from pandas) (2.9.0.post0)\n",
      "Requirement already satisfied: pytz>=2020.1 in c:\\users\\dev\\appdata\\roaming\\python\\python313\\site-packages (from pandas) (2025.2)\n",
      "Requirement already satisfied: tzdata>=2022.7 in c:\\users\\dev\\appdata\\roaming\\python\\python313\\site-packages (from pandas) (2025.2)\n",
      "Requirement already satisfied: six>=1.5 in c:\\python313\\lib\\site-packages (from python-dateutil>=2.8.2->pandas) (1.17.0)\n",
      "Note: you may need to restart the kernel to use updated packages.\n"
     ]
    }
   ],
   "source": [
    "%pip install pandas"
   ]
  },
  {
   "cell_type": "markdown",
   "id": "e54b90d6",
   "metadata": {},
   "source": [
    "## Obtener un paciente con su evolucion\n",
    "Se hace una consulta a la BBDD para conseguir el historial de consultas de un paciente dado por su id de Paciente\n",
    "\n",
    "Pacientes top 5 con mas consultas:\n",
    "- id 172, Leo Martínez, consultas 3\n",
    "- id 247, Luciana Gonzalez, consultas 3\n",
    "- id 280, Matías Alejandro López Torres, consultas 3\n",
    "- id 131, Lucas González, consultas 2\n",
    "- id 153, Leonardo Martinez, consultas 2"
   ]
  },
  {
   "cell_type": "code",
   "execution_count": null,
   "id": "73db8646",
   "metadata": {},
   "outputs": [],
   "source": [
    "import sqlite3\n",
    "import pandas as pd\n",
    "import pprint\n",
    "\n",
    "def query_to_database(query, db):\n",
    "    # 1. Connect to the SQLite database\n",
    "    conn = sqlite3.connect(db)\n",
    "\n",
    "    try:\n",
    "        df = pd.read_sql_query(query, conn)\n",
    "        # print(df)\n",
    "    except sqlite3.Error as e:\n",
    "        print(f\"An error occurred: {e}\")\n",
    "    finally:\n",
    "        conn.close()\n",
    "        return df\n",
    "\n",
    "# Obtener evolucion de un paciente\n",
    "id_paciente = 172\n",
    "sql_query_evolucion = f\"\"\"\n",
    "SELECT * FROM evolucion WHERE id_paciente = {id_paciente};\n",
    "\"\"\"\n",
    "evolucion_df = query_to_database(sql_query_evolucion, '../01_setup/data/consultorio.db')\n",
    "\n",
    "# Obtener datos personales del paciente\n",
    "sql_query_paciente = f\"\"\"\n",
    "SELECT * FROM paciente WHERE id_paciente = {id_paciente};\n",
    "\"\"\"\n",
    "paciente_df =query_to_database(sql_query_paciente, '../01_setup/data/consultorio.db')\n",
    "\n",
    "# print(\"Datos paciente:\")\n",
    "# pprint.pprint(paciente_df) \n",
    "# print(\"Evolucion del paciente:\")\n",
    "# pprint.pprint(evolucion_df)\n"
   ]
  },
  {
   "cell_type": "markdown",
   "id": "f0942ef4",
   "metadata": {},
   "source": [
    "## Test de propt"
   ]
  },
  {
   "cell_type": "markdown",
   "id": "f68082b1",
   "metadata": {},
   "source": [
    "### preparacion de datos de paciente y evoluciones"
   ]
  },
  {
   "cell_type": "markdown",
   "id": "adad69bb",
   "metadata": {},
   "source": [
    "Formateo de clases"
   ]
  },
  {
   "cell_type": "code",
   "execution_count": 39,
   "id": "40506c7c",
   "metadata": {},
   "outputs": [],
   "source": [
    "# configurar el parser de salida\n",
    "from typing import Optional\n",
    "from pydantic import BaseModel, Field\n",
    "\n",
    "class Paciente(BaseModel):\n",
    "    id_paciente: int = Field(...)\n",
    "    apellido: str = Field(...)\n",
    "    nombre: str = Field(...)\n",
    "    fecha_nac: str = Field(...)\n",
    "    sexo: str = Field(...)\n",
    "    edad: str = Field(...)\n",
    "    dni: str = Field(...)\n",
    "    localidad: str = Field(...)\n",
    "    obra_social: str = Field(...)\n",
    "    afiliado_nro: str = Field(...)\n",
    "    telefono: str = Field(...)\n",
    "    telefono_numero: str = Field(...)\n",
    "    email: str = Field(...)\n",
    "    especialidad: str = Field(...)\n",
    "    diagnostico: str = Field(...)\n",
    "    enfermedad_base: str = Field(...)\n",
    "    ant_perinatales: str = Field(...)\n",
    "    ant_familiares: str = Field(...)\n",
    "    registro: str = Field(...)\n",
    "    fecha_registro: str = Field(...)\n",
    "    \n",
    "class Evolucion(BaseModel):\n",
    "    id: int = Field(...)\n",
    "    id_paciente: int = Field(...)\n",
    "    fecha: str = Field(...)\n",
    "    edad: int = Field(...)\n",
    "    uni_edad: Optional[str] = Field(None)\n",
    "    edad_anios: float = Field(...)\n",
    "    edad_texto: str = Field(...)\n",
    "    peso: float = Field(...)\n",
    "    talla: float = Field(...)\n",
    "    imc: float = Field(...)\n",
    "    pc: float = Field(...)\n",
    "    motivo: str = Field(...)\n",
    "    conducta: Optional[str] = Field(None)"
   ]
  },
  {
   "cell_type": "markdown",
   "id": "0a9f647f",
   "metadata": {},
   "source": [
    "Creando objetos con los datos de paciente y evoluciones"
   ]
  },
  {
   "cell_type": "code",
   "execution_count": 40,
   "id": "f2bc210c",
   "metadata": {},
   "outputs": [],
   "source": [
    "paciente = Paciente(**paciente_df.to_dict(orient='records')[0])\n",
    "evoluciones = [Evolucion(**item) for item in evolucion_df.to_dict(orient='records')]\n",
    "\n",
    "# pprint.pprint(paciente)\n",
    "# pprint.pprint(evoluciones)"
   ]
  },
  {
   "cell_type": "markdown",
   "id": "39c5b224",
   "metadata": {},
   "source": [
    "### Preparacion de Prompt"
   ]
  },
  {
   "cell_type": "code",
   "execution_count": null,
   "id": "129e3e10",
   "metadata": {},
   "outputs": [],
   "source": [
    "#%pip install langchain-openai\n",
    "from langchain.prompts import PromptTemplate\n",
    "from langchain_core.output_parsers import StrOutputParser\n",
    "\n",
    "prompt = PromptTemplate(\n",
    "    input=[\"paciente\", \"evoluciones\"],\n",
    "    template=\"\"\"\n",
    "    ### preparacion de datos de paciente y evoluciones\n",
    "        Paciente: {paciente}\n",
    "        Evoluciones: {evoluciones}\n",
    "    ### Preparacion de Prompt\n",
    "        Eres un asistente que ayuda a redactar notas medicas a partir de los datos del paciente y sus evoluciones. Tu tarea es generar un resumen de la historia clinica del paciente, incluyendo los datos relevantes de las evoluciones.\n",
    "        Debes tener en cuenta:\n",
    "            - que las evoluciones pueden tener diferentes formatos y contenidos, por lo que debes ser capaz de interpretar y sintetizar la informacion de manera coherente.\n",
    "            - cruzar informacion de las diferentes evoluciones para identificar patrones, cambios y tendencias en la salud del paciente.\n",
    "            - cruzar los antecendentes personales y familiares del paciente, asi como su diagnostico y enfermedad base.\n",
    "    ### Salida esperada:\n",
    "        Se espera que la salida sea un texto en pocos parrafos.\n",
    "        El texto debe ser claro y conciso, utilizando lenguaje medico apropiado.\n",
    "        Al comenzar la redaccion, incluye una breve introduccion con los datos personales del paciente (nombre, edad, diagnostico -si es que lo tiene-, enfermedad base -si es que lo tiene-).\n",
    "        Cada patron, tendencia o cambio identificado debe ser explicado de manera clara y breve precisa en un parrafo aparte, utilizando como dato de referencia la fecha de la evolucion en la que se toma la informacion.\n",
    "        No debes:\n",
    "            - enumerar las evoluciones ni copiar literalmente su contenido.\n",
    "            - incluir informacion sobre obras sociales ni numero de documento. \n",
    "            - confundir el termino \"Control de salud\" con diagnosticos ni enfermedades. simplemente obvia ese dato si es que aparece en las evoluciones.\n",
    "            - confundir \"Otra\" con diagnosticos ni enfermedades. simplemente obvia ese dato si es que aparece en las evoluciones.\n",
    "            - inventar informacion que no este presente en los datos del paciente y sus evoluciones.\n",
    "    \"\"\",\n",
    "    output_parser=StrOutputParser()\n",
    ")"
   ]
  },
  {
   "cell_type": "markdown",
   "id": "ac5fd42c",
   "metadata": {},
   "source": [
    "### Consulta al Modelo\n",
    "preparando modelo"
   ]
  },
  {
   "cell_type": "code",
   "execution_count": 42,
   "id": "cc53aa8b",
   "metadata": {},
   "outputs": [],
   "source": [
    "from langchain_openai import ChatOpenAI\n",
    "import os\n",
    "from dotenv import load_dotenv\n",
    "load_dotenv()\n",
    "\n",
    "# Configurar la API key de OpenAI\n",
    "openai_api_key = os.getenv(\"OPENAI_API_KEY\")\n",
    "llm_model = \"gpt-4o-mini\"\n",
    "llm = ChatOpenAI(openai_api_key=openai_api_key, model = llm_model, temperature=0.7)"
   ]
  },
  {
   "cell_type": "markdown",
   "id": "7df57d6e",
   "metadata": {},
   "source": [
    "obteniendo resultados"
   ]
  },
  {
   "cell_type": "code",
   "execution_count": 43,
   "id": "479731e1",
   "metadata": {},
   "outputs": [
    {
     "name": "stdout",
     "output_type": "stream",
     "text": [
      "('**Historia Clínica del Paciente**\\n'\n",
      " '\\n'\n",
      " 'El paciente, Leo Martínez, es un varón de 6 meses de edad. Se encuentra en '\n",
      " 'seguimiento por control de salud, con antecedentes de control de salud '\n",
      " 'regular. No presenta enfermedades base significativas, aunque se reporta un '\n",
      " 'diagnóstico de \"Control de salud\". Entre sus antecedentes familiares, se '\n",
      " 'destaca que la madre tiene un antecedente de anemia durante el embarazo, lo '\n",
      " 'cual podría ser relevante para su seguimiento nutricional.\\n'\n",
      " '\\n'\n",
      " 'A lo largo de las evoluciones, se ha observado un crecimiento constante en '\n",
      " 'Leo. En la primera evaluación realizada el 9 de mayo de 2025, su peso era de '\n",
      " '7.8 kg y la talla de 65 cm, con un IMC de 18.46, indicando un estado '\n",
      " 'nutricional adecuado para su edad. Se recomendó continuar con la '\n",
      " 'suplementación de hierro y vitaminas, así como realizar un seguimiento de la '\n",
      " 'ecografía de cadera debido a la falta de osificación del núcleo femoral, '\n",
      " 'programada para el 11 de julio de 2025.\\n'\n",
      " '\\n'\n",
      " 'En la siguiente evolución, el 11 de junio de 2025, Leo presentó un ligero '\n",
      " 'aumento en su peso a 7.9 kg y una talla de 66 cm, con un IMC de 18.14. Sin '\n",
      " 'embargo, se observó que estaba cursando un cuadro de bronquiolitis, lo cual '\n",
      " 'puede ser un indicador de compromiso respiratorio que requiere atención. '\n",
      " 'Esta condición debe ser monitoreada de cerca en futuras evaluaciones.\\n'\n",
      " '\\n'\n",
      " 'Finalmente, en la evaluación realizada el 18 de julio de 2025, el peso se '\n",
      " 'mantuvo en 7.9 kg, aunque la talla aumentó a 67 cm. El IMC disminuyó a 17.6, '\n",
      " 'lo que podría ser motivo de revisión en cuanto a su nutrición y bienestar '\n",
      " 'general, dado que la estabilidad del peso en este periodo es crucial para su '\n",
      " 'adecuado desarrollo. No se documentaron intervenciones o conductas '\n",
      " 'específicas en esta consulta, lo que indica una necesidad de atención '\n",
      " 'continua en su seguimiento.\\n'\n",
      " '\\n'\n",
      " 'En resumen, el paciente se encuentra estable, pero es fundamental un '\n",
      " 'seguimiento regular para abordar tanto sus necesidades nutricionales como '\n",
      " 'cualquier patología respiratoria que pueda surgir.')\n"
     ]
    }
   ],
   "source": [
    "chain = prompt | llm | StrOutputParser()\n",
    "input_data = {\n",
    "    \"paciente\": paciente,\n",
    "    \"evoluciones\": evoluciones\n",
    "}\n",
    "respuesta = chain.invoke(input = input_data)\n",
    "pprint.pprint(respuesta)"
   ]
  },
  {
   "cell_type": "code",
   "execution_count": 60,
   "id": "553d6b61",
   "metadata": {},
   "outputs": [
    {
     "name": "stdout",
     "output_type": "stream",
     "text": [
      "Total de pacientes:  70\n",
      "Total de evoluciones:  79\n",
      "=== Conclusión del modelo ===\n",
      "    Tras revisar los registros de los pacientes y sus respectivas evoluciones, se identificó que el paciente con la mayor cantidad de entradas en la tabla \"evolución\" es Leo Martínez, de 6 meses de edad. \n",
      "\n",
      "    Leo Martínez, un varón de 6 meses de edad, ha sido sometido a varios controles de salud desde su nacimiento. Según los registros, Leo ha mantenido un peso y talla adecuados para su edad, con un índice de masa corporal (IMC) de 18.46 a los 6 meses. Además, se ha registrado un perímetro cefálico (PC) de 43.0 cm. En su última visita, se mencionó que continúa con la suplementación de sulfato ferroso 0.6 ml/día y vitaminas ADC 0.3 ml/día. También se mencionó que se realizará una ecografía de cadera a los 9 meses debido a la falta de osificación del núcleo femoral. \n",
      "\n",
      "    En base a la información disponible, Leo parece estar creciendo y desarrollándose adecuadamente para su edad. Sin embargo, la suplementación de sulfato ferroso sugiere que puede haber un riesgo o una condición existente de anemia, que podría ser causada por una variedad de factores, incluyendo una dieta insuficiente en hierro, una absorción inadecuada de hierro, o una pérdida de sangre. Además, la falta de osificación del núcleo femoral puede indicar una posible displasia de cadera, una afección en la que la articulación de la cadera no se forma correctamente.\n",
      "\n",
      "    En cuanto al tratamiento, la suplementación con sulfato ferroso y vitaminas ADC debería continuar para tratar y prevenir la anemia. Para la posible displasia de cadera, se recomienda realizar un seguimiento cercano con exámenes físicos y ecografías de la cadera para monitorear la osificación del núcleo femoral. Si la displasia de cadera se confirma, el tratamiento puede variar desde el uso de un arnés de Pavlik en los casos más leves, hasta la cirugía en los casos más graves. \n",
      "\n",
      "    Es importante recordar que estos diagnósticos y tratamientos son preliminares y deben ser confirmados por un médico a través de exámenes físicos y pruebas de laboratorio.\n"
     ]
    }
   ],
   "source": [
    "#Test de prompt 2\n",
    "\n",
    "#%pip install langchain langchain-community openai\n",
    "\n",
    "import sqlite3\n",
    "import pandas as pd\n",
    "from langchain.chat_models import ChatOpenAI\n",
    "from langchain.prompts import PromptTemplate\n",
    "from langchain.chains import LLMChain\n",
    "\n",
    "\n",
    "DB_PATH = '../01_setup/data/consultorio.db'\n",
    "\n",
    "def query_to_database(query: str, db: str) -> pd.DataFrame:\n",
    "    conn = sqlite3.connect(db)\n",
    "    try:\n",
    "        df= pd.read_sql_query (query, conn)\n",
    "    except sqlite3.Error as e:\n",
    "        print (\"Error al ejecutar= {e}\")\n",
    "        df = pd.DataFrame()\n",
    "    finally:\n",
    "        conn.close()\n",
    "    return df\n",
    "\n",
    "#Obtener todos los pacientes\n",
    "sql_query_pacientes = \"SELECT * FROM paciente;\"\n",
    "pacientes_df = query_to_database(sql_query_pacientes, DB_PATH)\n",
    "\n",
    "#Obtener todas las evoluciones\n",
    "sql_query_evoluciones = \"SELECT * FROM evolucion;\"\n",
    "evoluciones_df = query_to_database(sql_query_evoluciones, DB_PATH)\n",
    "\n",
    "#Debug de lectura de base de datos \n",
    "print (\"Total de pacientes: \", len(pacientes_df))\n",
    "print (\"Total de evoluciones: \", len(evoluciones_df))\n",
    "\n",
    "#Inicio de modelo GPT\n",
    "llm = ChatOpenAI(model_name=\"gpt-4\", temperature=0.3)\n",
    "template=\"\"\"\n",
    "    ### Contexto\n",
    "    Eres un médico analista encargado de elaborar un informe clínico.\n",
    "    Tienes en memoria los pacientes: {pacientes}\n",
    "    Y sus evoluciones: {evoluciones}\n",
    "\n",
    "    ### Capacidades adicionales\n",
    "    - Puedes realizar búsquedas en internet si lo consideras necesario para complementar el análisis.\n",
    "    - Usa esta capacidad especialmente para proponer **posibles tratamientos o curas** basadas en información médica actualizada.\n",
    "\n",
    "    ### Tarea\n",
    "    1. Identifica al paciente que tenga la mayor cantidad de entradas en la tabla \"evolucion\".\n",
    "    2. Redacta un análisis de su caso en varios párrafos claros y estructurados.\n",
    "    3. El texto debe cumplir las siguientes reglas:\n",
    "        - Comenzar con una introducción breve mencionando los estudios realizados.\n",
    "        - Referirse siempre al paciente por su **nombre, apellido y edad**.\n",
    "        - Elaborar un **diagnóstico** basado en la información disponible.\n",
    "        - Describir las **posibles causas** de la condición observada.\n",
    "        - Proponer **posibles tratamientos o curas**, usando tanto los datos del paciente como la información más actualizada disponible mediante búsquedas en internet.\n",
    "        - Usar un lenguaje médico claro y conciso, en párrafos, evitando enumeraciones.\n",
    "        - No inventar información que no esté presente en los datos del paciente o en la evidencia científica encontrada en internet.\n",
    "\"\"\"\n",
    "\n",
    "prompt = PromptTemplate(\n",
    "    input_variables=[\"pacientes\", \"evoluciones\", \"instruccion\"],\n",
    "    template=template,\n",
    ")\n",
    "\n",
    "chain = LLMChain(llm = llm, prompt = prompt)\n",
    "\n",
    "pacientes_sample = pacientes_df.head(15).to_dict(orient=\"records\")\n",
    "evoluciones_sample = evoluciones_df.head(20).to_dict(orient=\"records\")\n",
    "instruccion_usuario = \"Hablar solo del paciente identificado por su nombre, no mencionar el ID\"\n",
    "\n",
    "respuesta = chain.run(\n",
    "    pacientes=pacientes_sample,\n",
    "    evoluciones=evoluciones_sample,\n",
    "    instruccion=instruccion_usuario\n",
    ")\n",
    "\n",
    "print(\"=== Conclusión del modelo ===\")\n",
    "print(respuesta)\n"
   ]
  }
 ],
 "metadata": {
  "kernelspec": {
   "display_name": "Python 3",
   "language": "python",
   "name": "python3"
  },
  "language_info": {
   "codemirror_mode": {
    "name": "ipython",
    "version": 3
   },
   "file_extension": ".py",
   "mimetype": "text/x-python",
   "name": "python",
   "nbconvert_exporter": "python",
   "pygments_lexer": "ipython3",
   "version": "3.13.1"
  }
 },
 "nbformat": 4,
 "nbformat_minor": 5
}
