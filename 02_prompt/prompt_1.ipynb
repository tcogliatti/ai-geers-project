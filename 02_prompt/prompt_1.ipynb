{
 "cells": [
  {
   "cell_type": "markdown",
   "id": "8ea67ff9",
   "metadata": {},
   "source": [
    "Archivo para probar los prompt"
   ]
  },
  {
   "cell_type": "code",
   "execution_count": 16,
   "id": "632e20cb",
   "metadata": {},
   "outputs": [
    {
     "name": "stdout",
     "output_type": "stream",
     "text": [
      "Defaulting to user installation because normal site-packages is not writeable\n",
      "Requirement already satisfied: pandas in c:\\users\\dev\\appdata\\roaming\\python\\python313\\site-packages (2.3.2)\n",
      "Requirement already satisfied: numpy>=1.26.0 in c:\\users\\dev\\appdata\\roaming\\python\\python313\\site-packages (from pandas) (2.3.3)\n",
      "Requirement already satisfied: python-dateutil>=2.8.2 in c:\\users\\dev\\appdata\\roaming\\python\\python313\\site-packages (from pandas) (2.9.0.post0)\n",
      "Requirement already satisfied: pytz>=2020.1 in c:\\users\\dev\\appdata\\roaming\\python\\python313\\site-packages (from pandas) (2025.2)\n",
      "Requirement already satisfied: tzdata>=2022.7 in c:\\users\\dev\\appdata\\roaming\\python\\python313\\site-packages (from pandas) (2025.2)\n",
      "Requirement already satisfied: six>=1.5 in c:\\python313\\lib\\site-packages (from python-dateutil>=2.8.2->pandas) (1.17.0)\n",
      "Note: you may need to restart the kernel to use updated packages.\n"
     ]
    }
   ],
   "source": [
    "%pip install pandas\n",
    "import pandas as pd\n",
    "import json\n",
    "\n",
    "pacientes_path = '../01_setup/data/json/pacientes.json'\n",
    "evolucion_path = '../01_setup/data/json/evolucion.json'\n",
    "\n",
    "#Cargar datos de los pacientes\n",
    "with open(pacientes_path, 'r', encoding='utf-8') as f:\n",
    "    pacientes_data = json.load(f)\n",
    "df_pacientes = pd.DataFrame(pacientes_data[2]['data'])\n",
    "\n",
    "#Cargas las evoluciones\n",
    "with open(evolucion_path, 'r', encoding='utf-8') as f:\n",
    "    evolucion_data = json.load(f)\n",
    "df_evolucion = pd.DataFrame(evolucion_data[2]['data'])\n",
    "\n",
    "#Fusion\n",
    "df_pacientes['id_paciente'] = df_pacientes['id_paciente'].astype(int)\n",
    "df_evolucion['id_paciente'] = df_evolucion['id_paciente'].astype(int)\n",
    "df_combinado = pd.merge(df_pacientes, df_evolucion, on='id_paciente', how='left')\n",
    "\n"
   ]
  },
  {
   "cell_type": "markdown",
   "id": "f68082b1",
   "metadata": {},
   "source": [
    "Formateo de texto para LLM"
   ]
  },
  {
   "cell_type": "code",
   "execution_count": null,
   "id": "eb27a876",
   "metadata": {},
   "outputs": [
    {
     "name": "stdout",
     "output_type": "stream",
     "text": [
      "--- Ejemplo de un prompt generado ---\n",
      "Historia Clínica del Paciente:\n",
      "- Nombre: Tadeo Buscaglia\n",
      "- DNI: 52.029.548\n",
      "- Fecha de Nacimiento: 2012-02-06\n",
      "- Sexo: Varón\n",
      "- Especialidad: Pediátrico\n",
      "- Diagnóstico Principal: Otra\n",
      "- Enfermedad de Base: Klippel Trenaunay\n",
      "- Antecedentes Perinatales: RNT PAEG vaginal Klippel Trenaunay Dx realizado al momento del nacer con uso de media de compresión\n",
      "- Antecedentes Familiares: No refiere\n",
      "\n",
      "Evoluciones del Paciente:\n",
      "- Fecha: 2025-09-02\n",
      "  Motivo: Control de salud\n",
      "  Conducta: \n",
      "\n",
      "\n",
      "\n",
      "\n",
      "Se han generado los prompts y se han guardado en 'historiales_clinicos_formateados.txt'\n"
     ]
    }
   ],
   "source": [
    "import pandas as pd\n",
    "\n",
    "# Convertir la columna 'fecha' en la tabla de evolucion a formato de fecha\n",
    "df_combinado['fecha'] = pd.to_datetime(df_combinado['fecha'], errors='coerce')\n",
    "\n",
    "# Diccionario para almacenar los prompts de cada paciente\n",
    "prompts_por_paciente = {}\n",
    "\n",
    "# Agrupar el DataFrame por id_paciente\n",
    "pacientes_agrupados = df_combinado.groupby('id_paciente')\n",
    "\n",
    "# Iterar sobre cada grupo de paciente\n",
    "for id_paciente, grupo_paciente in pacientes_agrupados:\n",
    "    # Obtener los datos del paciente\n",
    "    paciente = grupo_paciente.iloc[0]\n",
    "\n",
    "    # Ordenar las evoluciones del paciente por fecha y eliminar los valores NaT\n",
    "    # La eliminación de NaT previene el error 'AttributeError: float'\n",
    "    evoluciones_ordenadas = grupo_paciente.dropna(subset=['fecha']).sort_values(by='fecha')\n",
    "\n",
    "    # Construir la sección de evoluciones como una cadena de texto\n",
    "    evoluciones_texto = \"\"\n",
    "    if not evoluciones_ordenadas.empty:\n",
    "        for index, evolucion in evoluciones_ordenadas.iterrows():\n",
    "            evoluciones_texto += (\n",
    "                f\"- Fecha: {evolucion['fecha'].strftime('%Y-%m-%d')}\\n\"\n",
    "                f\"  Motivo: {evolucion['motivo']}\\n\"\n",
    "                f\"  Conducta: {evolucion['conducta']}\\n\\n\"\n",
    "            )\n",
    "    else:\n",
    "        evoluciones_texto = \"No se encontraron evoluciones para este paciente.\\n\\n\"\n",
    "\n",
    "    # Crear el prompt completo del paciente\n",
    "    prompt_completo = f\"\"\"Historia Clínica del Paciente:\n",
    "- Nombre: {paciente['nombre']} {paciente['apellido']}\n",
    "- DNI: {paciente['dni']}\n",
    "- Fecha de Nacimiento: {paciente['fecha_nac']}\n",
    "- Sexo: {paciente['sexo']}\n",
    "- Especialidad: {paciente['especialidad']}\n",
    "- Diagnóstico Principal: {paciente['diagnostico']}\n",
    "- Enfermedad de Base: {paciente['enfermedad_base']}\n",
    "- Antecedentes Perinatales: {paciente['ant_perinatales']}\n",
    "- Antecedentes Familiares: {paciente['ant_familiares']}\n",
    "\n",
    "Evoluciones del Paciente:\n",
    "{evoluciones_texto}\n",
    "\"\"\"\n",
    "prompts_por_paciente[id_paciente] = prompt_completo\n",
    "\n",
    "# Ejemplo de cómo se vería un prompt\n",
    "print(\"--- Ejemplo de un prompt generado ---\")\n",
    "# Puedes cambiar el ID para ver el prompt de otro paciente\n",
    "ejemplo_prompt = prompts_por_paciente.get(150, \"No se encontró el paciente con el ID 2.\")\n",
    "print(ejemplo_prompt)\n"
   ]
  }
 ],
 "metadata": {
  "kernelspec": {
   "display_name": "Python 3",
   "language": "python",
   "name": "python3"
  },
  "language_info": {
   "codemirror_mode": {
    "name": "ipython",
    "version": 3
   },
   "file_extension": ".py",
   "mimetype": "text/x-python",
   "name": "python",
   "nbconvert_exporter": "python",
   "pygments_lexer": "ipython3",
   "version": "3.13.1"
  }
 },
 "nbformat": 4,
 "nbformat_minor": 5
}
