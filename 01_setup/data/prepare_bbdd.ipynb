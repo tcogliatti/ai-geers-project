{
 "cells": [
  {
   "cell_type": "markdown",
   "id": "8696945e",
   "metadata": {},
   "source": [
    "# Creacion de SQL script"
   ]
  },
  {
   "cell_type": "markdown",
   "id": "134979c4",
   "metadata": {},
   "source": [
    "Este codigo tiene le objetivo de tomar los datos del json original, procesarlo y pasarlo a un script SQL para generar el esquema de tablas\n",
    "1. obtencion de los JSON\n",
    "2. definicion de esquema de BBDD\n",
    "3. filtrado de pacientes, solo tomaremos los paciences contenidos en la tabla evolucion\n",
    "4. modificacion de datos de pacientes\n",
    "5. almacenar los datos de evoluciones y pacientes en archivos"
   ]
  },
  {
   "cell_type": "markdown",
   "id": "37de10e3",
   "metadata": {},
   "source": [
    "## 1. Obtencion de los JSON"
   ]
  },
  {
   "cell_type": "code",
   "execution_count": 22,
   "id": "7209553a",
   "metadata": {},
   "outputs": [],
   "source": [
    "import os\n",
    "import pandas as pd\n",
    "from dotenv import load_dotenv\n",
    "import json\n",
    "\n",
    "load_dotenv()\n",
    "\n",
    "# obtener pacientes\n",
    "pacientes_json = []\n",
    "with open(\"./json/pacientes.json\", \"r\") as f:\n",
    "    pacientes_json = json.load(f)\n",
    "pacientes = pacientes_json[2][\"data\"]\n",
    "    \n",
    "# obtener evoluciones\n",
    "evoluciones_json = []\n",
    "with open(\"./json/evolucion.json\", \"r\") as f:\n",
    "    evoluciones_json = json.load(f)\n",
    "evoluciones = evoluciones_json[2][\"data\"]\n"
   ]
  },
  {
   "cell_type": "markdown",
   "id": "b8e0bda1",
   "metadata": {},
   "source": [
    "## 2. Definicion de esquema de BBDD"
   ]
  },
  {
   "cell_type": "code",
   "execution_count": null,
   "id": "68479af2",
   "metadata": {},
   "outputs": [],
   "source": [
    "CREATE TABLE evolucion (\n",
    "    id INTEGER PRIMARY KEY,\n",
    "    id_paciente INTEGER,\n",
    "    fecha DATE,\n",
    "    edad INTEGER,\n",
    "    uni_edad VARCHAR(20),\n",
    "    edad_anios FLOAT,\n",
    "    edad_texto VARCHAR(50),\n",
    "    peso FLOAT,\n",
    "    talla FLOAT,\n",
    "    imc FLOAT,\n",
    "    pc FLOAT,\n",
    "    motivo VARCHAR(255),\n",
    "    conducta TEXT,\n",
    "    FOREIGN KEY (id_paciente) REFERENCES paciente(id_paciente)\n",
    ");"
   ]
  },
  {
   "cell_type": "code",
   "execution_count": null,
   "id": "8abaa70d",
   "metadata": {},
   "outputs": [],
   "source": [
    "CREATE TABLE paciente (\n",
    "    id_paciente INTEGER PRIMARY KEY,\n",
    "    apellido VARCHAR(100),\n",
    "    nombre VARCHAR(100),\n",
    "    fecha_nac DATE,\n",
    "    sexo VARCHAR(10),\n",
    "    edad VARCHAR(20),\n",
    "    dni VARCHAR(20),\n",
    "    localidad VARCHAR(100),\n",
    "    obra_social VARCHAR(100),\n",
    "    afiliado_nro VARCHAR(50),\n",
    "    telefono VARCHAR(100),\n",
    "    telefono_numero VARCHAR(20),\n",
    "    email VARCHAR(100),\n",
    "    especialidad VARCHAR(100),\n",
    "    diagnostico VARCHAR(255),\n",
    "    enfermedad_base VARCHAR(255),\n",
    "    ant_perinatales TEXT,\n",
    "    ant_familiares TEXT,\n",
    "    registro VARCHAR(50),\n",
    "    fecha_reg VARCHAR(50)\n",
    ");"
   ]
  },
  {
   "cell_type": "markdown",
   "id": "12423a39",
   "metadata": {},
   "source": []
  },
  {
   "cell_type": "markdown",
   "id": "61cddd06",
   "metadata": {},
   "source": [
    "## 3. filtrado de pacientes\n",
    "\n",
    "Para hacer esto debenmos tomar solo los pacientes que tienen consultas"
   ]
  },
  {
   "cell_type": "code",
   "execution_count": 23,
   "id": "df931ae8",
   "metadata": {},
   "outputs": [
    {
     "name": "stdout",
     "output_type": "stream",
     "text": [
      "Pacientes original cantidad: 315\n",
      "Pacientes con evoluciones cantidad: 70\n",
      "Evoluciones cantidad: 79\n"
     ]
    }
   ],
   "source": [
    "# iterar sobre las consultas\n",
    "ids_pacientes_con_evoluciones = set()\n",
    "for evolucion in evoluciones:\n",
    "    id_paciente = evolucion[\"id_paciente\"]\n",
    "    if id_paciente not in ids_pacientes_con_evoluciones:\n",
    "        ids_pacientes_con_evoluciones.add(id_paciente)\n",
    "# filtrar pacientes\n",
    "pacientes_con_evoluciones = [p for p in pacientes if p[\"id_paciente\"] in ids_pacientes_con_evoluciones] \n",
    "\n",
    "# crear dataframes\n",
    "df_pacientes = pd.DataFrame(pacientes_con_evoluciones)\n",
    "df_evoluciones = pd.DataFrame(evoluciones)\n",
    "\n",
    "print(f\"Pacientes original cantidad: {pacientes.__len__()}\")\n",
    "print(f\"Pacientes con evoluciones cantidad: {pacientes_con_evoluciones.__len__()}\")\n",
    "print(f\"Evoluciones cantidad: {evoluciones.__len__()}\")\n"
   ]
  },
  {
   "cell_type": "markdown",
   "id": "954dc80f",
   "metadata": {},
   "source": [
    "# 4. Modificar los datos personales reales\n",
    "Modificar los datos pidiendo al LLM que genere datos ficticios\n",
    "- apellido\n",
    "- nombre\n",
    "- dni\n",
    "- afiliado_nro\n",
    "- telefono\n",
    "- telefono_numero\n",
    "- email"
   ]
  },
  {
   "cell_type": "code",
   "execution_count": null,
   "id": "57ddf9c2",
   "metadata": {},
   "outputs": [],
   "source": [
    "## 1. instalar librerias\n",
    "## 2. importar librerias\n",
    "## 3. iterar sobre pacientes\n",
    "## 4. llamar a la api para modificar los datos personales\n",
    "## 5. crear dataframes\n"
   ]
  },
  {
   "cell_type": "markdown",
   "id": "c2c97429",
   "metadata": {},
   "source": [
    "## 5. Persistir los datos en archivos \n",
    "En este punto debemos guardar los dataframes para subirlos a la BBDD"
   ]
  },
  {
   "cell_type": "code",
   "execution_count": null,
   "id": "200401d8",
   "metadata": {},
   "outputs": [],
   "source": [
    "## almacenar PACIENTES y EVOLUCIONES en archivos CSV o similares"
   ]
  },
  {
   "cell_type": "markdown",
   "id": "392b9fbe",
   "metadata": {},
   "source": []
  }
 ],
 "metadata": {
  "kernelspec": {
   "display_name": ".venv",
   "language": "python",
   "name": "python3"
  },
  "language_info": {
   "codemirror_mode": {
    "name": "ipython",
    "version": 3
   },
   "file_extension": ".py",
   "mimetype": "text/x-python",
   "name": "python",
   "nbconvert_exporter": "python",
   "pygments_lexer": "ipython3",
   "version": "3.13.5"
  }
 },
 "nbformat": 4,
 "nbformat_minor": 5
}
