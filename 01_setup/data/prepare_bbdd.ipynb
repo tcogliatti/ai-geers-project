{
 "cells": [
  {
   "cell_type": "markdown",
   "id": "8696945e",
   "metadata": {},
   "source": [
    "# Creacion de SQL script"
   ]
  },
  {
   "cell_type": "markdown",
   "id": "134979c4",
   "metadata": {},
   "source": [
    "Este codigo tiene por objetivo tomar los datos del json original, procesarlos y pasarlos a un script SQL para generar el esquema de tablas\n",
    "1. obtencion de los JSON\n",
    "2. definicion de esquema de BBDD\n",
    "3. filtrado de pacientes, solo tomaremos los paciences contenidos en la tabla evolucion\n",
    "4. modificacion de datos de pacientes\n",
    "5. almacenar los datos de evoluciones y pacientes en archivos"
   ]
  },
  {
   "cell_type": "markdown",
   "id": "37de10e3",
   "metadata": {},
   "source": [
    "## 1. Obtencion de los JSON"
   ]
  },
  {
   "cell_type": "code",
   "execution_count": 6,
   "id": "7209553a",
   "metadata": {},
   "outputs": [],
   "source": [
    "import os\n",
    "import pandas as pd\n",
    "from dotenv import load_dotenv\n",
    "import json\n",
    "\n",
    "load_dotenv()\n",
    "\n",
    "# obtener pacientes\n",
    "pacientes_json = []\n",
    "with open(\"./json/pacientes.json\", \"r\", encoding=\"utf-8\") as f:\n",
    "    pacientes_json = json.load(f)\n",
    "pacientes = pacientes_json[2][\"data\"]\n",
    "    \n",
    "# obtener evoluciones\n",
    "evoluciones_json = []\n",
    "with open(\"./json/evolucion.json\", \"r\", encoding=\"utf-8\") as f:\n",
    "    evoluciones_json = json.load(f)\n",
    "evoluciones = evoluciones_json[2][\"data\"]\n"
   ]
  },
  {
   "cell_type": "markdown",
   "id": "b8e0bda1",
   "metadata": {},
   "source": [
    "## 2. Definicion de esquema de BBDD"
   ]
  },
  {
   "cell_type": "markdown",
   "id": "68479af2",
   "metadata": {},
   "source": [
    "CREATE TABLE evolucion (\n",
    "    id INTEGER PRIMARY KEY,\n",
    "    id_paciente INTEGER,\n",
    "    fecha DATE,\n",
    "    edad INTEGER,\n",
    "    uni_edad VARCHAR(20),\n",
    "    edad_anios FLOAT,\n",
    "    edad_texto VARCHAR(50),\n",
    "    peso FLOAT,\n",
    "    talla FLOAT,\n",
    "    imc FLOAT,\n",
    "    pc FLOAT,\n",
    "    motivo VARCHAR(255),\n",
    "    conducta TEXT,\n",
    "    FOREIGN KEY (id_paciente) REFERENCES paciente(id_paciente)\n",
    ");"
   ]
  },
  {
   "cell_type": "markdown",
   "id": "8abaa70d",
   "metadata": {},
   "source": [
    "CREATE TABLE paciente (\n",
    "    id_paciente INTEGER PRIMARY KEY,\n",
    "    apellido VARCHAR(100),\n",
    "    nombre VARCHAR(100),\n",
    "    fecha_nac DATE,\n",
    "    sexo VARCHAR(10),\n",
    "    edad VARCHAR(20),\n",
    "    dni VARCHAR(20),\n",
    "    localidad VARCHAR(100),\n",
    "    obra_social VARCHAR(100),\n",
    "    afiliado_nro VARCHAR(50),\n",
    "    telefono VARCHAR(100),\n",
    "    telefono_numero VARCHAR(20),\n",
    "    email VARCHAR(100),\n",
    "    especialidad VARCHAR(100),\n",
    "    diagnostico VARCHAR(255),\n",
    "    enfermedad_base VARCHAR(255),\n",
    "    ant_perinatales TEXT,\n",
    "    ant_familiares TEXT,\n",
    "    registro VARCHAR(50),\n",
    "    fecha_reg VARCHAR(50)\n",
    ");"
   ]
  },
  {
   "cell_type": "markdown",
   "id": "12423a39",
   "metadata": {},
   "source": []
  },
  {
   "cell_type": "markdown",
   "id": "61cddd06",
   "metadata": {},
   "source": [
    "## 3. filtrado de pacientes\n",
    "\n",
    "Para hacer esto debenmos tomar solo los pacientes que tienen consultas"
   ]
  },
  {
   "cell_type": "code",
   "execution_count": 7,
   "id": "df931ae8",
   "metadata": {},
   "outputs": [
    {
     "name": "stdout",
     "output_type": "stream",
     "text": [
      "Pacientes original cantidad: 315\n",
      "Pacientes con evoluciones cantidad: 70\n",
      "Evoluciones cantidad: 79\n",
      "----------------------------------------\n"
     ]
    }
   ],
   "source": [
    "# iterar sobre las consultas\n",
    "ids_pacientes_con_evoluciones = set()\n",
    "for evolucion in evoluciones:\n",
    "    id_paciente = evolucion[\"id_paciente\"]\n",
    "    if id_paciente not in ids_pacientes_con_evoluciones:\n",
    "        ids_pacientes_con_evoluciones.add(id_paciente)\n",
    "# filtrar pacientes\n",
    "pacientes_con_evoluciones = [p for p in pacientes if p[\"id_paciente\"] in ids_pacientes_con_evoluciones] \n",
    "\n",
    "# crear dataframes\n",
    "df_pacientes = pd.DataFrame(pacientes_con_evoluciones)\n",
    "df_evoluciones = pd.DataFrame(evoluciones)\n",
    "\n",
    "print(f\"Pacientes original cantidad: {pacientes.__len__()}\")\n",
    "print(f\"Pacientes con evoluciones cantidad: {pacientes_con_evoluciones.__len__()}\")\n",
    "print(f\"Evoluciones cantidad: {evoluciones.__len__()}\")\n",
    "print(\"----------------------------------------\")\n",
    "\n",
    "\n"
   ]
  },
  {
   "cell_type": "markdown",
   "id": "954dc80f",
   "metadata": {},
   "source": [
    "# 4. Modificar los datos personales reales\n",
    "Modificar los datos pidiendo al LLM que genere datos ficticios\n",
    "- apellido\n",
    "- nombre\n",
    "- dni\n",
    "- afiliado_nro\n",
    "- telefono\n",
    "- telefono_numero\n",
    "- email"
   ]
  },
  {
   "cell_type": "code",
   "execution_count": 23,
   "id": "69b87b14",
   "metadata": {},
   "outputs": [
    {
     "name": "stdout",
     "output_type": "stream",
     "text": [
      "Requirement already satisfied: langchain in /Users/tc/Desktop/Curso - Geers AI/ai-geers-project/.venv/lib/python3.13/site-packages (0.3.27)\n",
      "Requirement already satisfied: langchain-openai in /Users/tc/Desktop/Curso - Geers AI/ai-geers-project/.venv/lib/python3.13/site-packages (0.3.33)\n",
      "Requirement already satisfied: langchain_community in /Users/tc/Desktop/Curso - Geers AI/ai-geers-project/.venv/lib/python3.13/site-packages (0.3.29)\n",
      "Requirement already satisfied: pydantic in /Users/tc/Desktop/Curso - Geers AI/ai-geers-project/.venv/lib/python3.13/site-packages (2.11.9)\n",
      "\u001b[31mERROR: Could not find a version that satisfies the requirement pprint (from versions: none)\u001b[0m\u001b[31m\n",
      "\u001b[0m\u001b[31mERROR: No matching distribution found for pprint\u001b[0m\u001b[31m\n",
      "\u001b[0mNote: you may need to restart the kernel to use updated packages.\n"
     ]
    }
   ],
   "source": [
    "# instalar libreria de lanchain y openai\n",
    "%pip install langchain langchain-openai langchain_community pydantic pprint\n"
   ]
  },
  {
   "cell_type": "code",
   "execution_count": null,
   "id": "57ddf9c2",
   "metadata": {},
   "outputs": [
    {
     "name": "stdout",
     "output_type": "stream",
     "text": [
      "0 - \n",
      "1 - 2 - 3 - 4 - 5 - 6 - 7 - 8 - 9 - 10 - 11 - 12 - 13 - 14 - 15 - 16 - 17 - 18 - 19 - 20 - \n",
      "21 - 22 - 23 - 24 - 25 - 26 - 27 - 28 - 29 - 30 - 31 - 32 - 33 - 34 - 35 - 36 - 37 - 38 - 39 - 40 - \n",
      "41 - 42 - 43 - 44 - 45 - 46 - 47 - 48 - 49 - 50 - 51 - 52 - 53 - 54 - 55 - 56 - 57 - 58 - 59 - 60 - \n",
      "61 - 62 - 63 - 64 - 65 - 66 - 67 - 68 - 69 - "
     ]
    }
   ],
   "source": [
    "from langchain_openai import ChatOpenAI\n",
    "from langchain.prompts import PromptTemplate\n",
    "from langchain_core.output_parsers import StrOutputParser\n",
    "from pydantic import BaseModel, Field\n",
    "import os\n",
    "\n",
    "## 1. instalar librerias\n",
    "## 2. importar librerias\n",
    "## 3. iterar sobre pacientes\n",
    "## 4. llamar a la api para modificar los datos personales\n",
    "\n",
    "# funcion para crear paciente ficticio\n",
    "def createPacienteFicticio(paciente, datos_ficticios):\n",
    "    paciente[\"apellido\"] = datos_ficticios.apellido\n",
    "    paciente[\"nombre\"] = datos_ficticios.nombre\n",
    "    paciente[\"dni\"] = datos_ficticios.dni\n",
    "    paciente[\"afiliado_nro\"] = datos_ficticios.afiliado_nro\n",
    "    paciente[\"telefono\"] = datos_ficticios.telefono\n",
    "    paciente[\"telefono_numero\"] = datos_ficticios.telefono_numero\n",
    "    paciente[\"email\"] = datos_ficticios.email\n",
    "    return paciente\n",
    "\n",
    "\n",
    "# Configurar la API key de OpenAI\n",
    "openai_api_key = os.getenv(\"OPENAI_API_KEY\")\n",
    "llm_model = \"gpt-4o-mini\"\n",
    "llm = ChatOpenAI(openai_api_key=openai_api_key, model = llm_model, temperature=0.7)\n",
    "\n",
    "# configurar el parser de salida\n",
    "class PacienteFicticio(BaseModel):\n",
    "    apellido: str = Field(...)\n",
    "    nombre: str = Field(...)\n",
    "    dni: str = Field(...)\n",
    "    afiliado_nro: str = Field(...)\n",
    "    telefono: str = Field(...)\n",
    "    telefono_numero: str = Field(...)\n",
    "    email: str = Field(...)\n",
    "    \n",
    "# estructurando la salida del modelo\n",
    "llm_with_structure = llm.with_structured_output(PacienteFicticio)\n",
    "\n",
    "# Definir el prompt para anonimizar datos personales\n",
    "prompt = PromptTemplate(\n",
    "    input_variables=[\"apellido\", \"nombre\", \"dni\", \"afiliado_nro\", \"telefono\", \"telefono_numero\", \"email\"],\n",
    "    template=(\n",
    "        \"\"\"\n",
    "            Dado los siguientes datos personales de un paciente:\n",
    "            Apellido: {apellido}\n",
    "            Nombre: {nombre}\n",
    "            DNI: {dni}\n",
    "            Afiliado Nro: {afiliado_nro}\n",
    "            Teléfono: {telefono}\n",
    "            Teléfono Número: {telefono_numero}\n",
    "            Email: {email}\n",
    "            Genera datos ficticios para cada campo, manteniendo el formato y tipo de dato.\n",
    "\n",
    "            <example>\n",
    "                Apellido: Perez -> Apellido ficticio: Gomez // si el apellido es compuesto, usa un apellido compuesto ficticio. Usa apellidos de nacionalidad similar al original\n",
    "                Nombre: Juan -> Nombre ficticio: Mateo // si el nombre es compuesto, usa un nombre compuesto ficticio. Usa nombres respetando el genero\n",
    "                DNI: 12.345.678 -> DNI ficticio: 12.678.345 // intercambia la posicion de las ultimas 3 cifras por 3 cifras anteriores\n",
    "                Afiliado Nro: 123456789 -> Afiliado Nro ficticio: 123456987 // invierte el orden de los ultimos 3 digitos. Si hay mas de un numero de afiliado identifica cada uno y aplica la misma logica\n",
    "                Teléfono: 1234-567890 -> Teléfono ficticio: 4321-098765 // inventate cualquier cosa. si hay mas de un numero de telefono, identifica cada uno y aplica la misma logica\n",
    "                Teléfono Número: 1234567890 -> Teléfono Número ficticio: 0987654321 // inventate cualquier cosa. si hay mas de un numero de telefono, identifica cada uno y aplica la misma logica\n",
    "                Email: juan.perez@email.com -> Email ficticio: mateo.gomez@email.com // usa el nombre y apellido ficticio separados por un punto y el dominio @mail.com\n",
    "            </example>\n",
    "            \n",
    "            Aclaraciones: si un campo viene vacio, dejalo vacio en la respuesta. Si un campo no tiene el formato esperado, inventate un valor con el formato correcto.\n",
    "        \"\"\"\n",
    "    )\n",
    ")\n",
    "\n",
    "# Iterar sobre los pacientes y anonimizar datos personales\n",
    "pacientes_ficticios = []\n",
    "for index, paciente in enumerate(pacientes_con_evoluciones):\n",
    "    input_data = {\n",
    "        \"apellido\": paciente[\"apellido\"],\n",
    "        \"nombre\": paciente[\"nombre\"],\n",
    "        \"dni\": paciente[\"dni\"],\n",
    "        \"afiliado_nro\": paciente[\"afiliado_nro\"],\n",
    "        \"telefono\": paciente[\"telefono\"],\n",
    "        \"telefono_numero\": paciente[\"telefono_numero\"],\n",
    "        \"email\": paciente[\"email\"],\n",
    "    }\n",
    "    print(index, end=\" - \")\n",
    "    if index % 20 == 0:\n",
    "        print()\n",
    "    chain = prompt | llm_with_structure\n",
    "    respuesta = chain.invoke(input = input_data)\n",
    "    pacientes_ficticios.append(createPacienteFicticio(paciente, respuesta))\n",
    "\n",
    "\n",
    "\n"
   ]
  },
  {
   "cell_type": "markdown",
   "id": "2d35855b",
   "metadata": {},
   "source": [
    "# 5. Guardar los pacientes ficticios en CSV"
   ]
  },
  {
   "cell_type": "code",
   "execution_count": 40,
   "id": "5304182d",
   "metadata": {},
   "outputs": [],
   "source": [
    "df_pacientes_ficticios = pd.DataFrame(pacientes_ficticios)\n",
    "df_pacientes_ficticios.to_csv(\"./pacientes_ficticios.csv\", index=False)"
   ]
  },
  {
   "cell_type": "markdown",
   "id": "c2c97429",
   "metadata": {},
   "source": [
    "## 6. Guardar las evolucuiones en CSV"
   ]
  },
  {
   "cell_type": "code",
   "execution_count": 9,
   "id": "200401d8",
   "metadata": {},
   "outputs": [
    {
     "name": "stdout",
     "output_type": "stream",
     "text": [
      "Guardando los pacientes filtrados en ./data/pacientes.csv\n",
      "Guardando las evoluciones en ./data/evoluciones.csv\n"
     ]
    }
   ],
   "source": [
    "## almacenar EVOLUCIONES en archivos CSV\n",
    "\n",
    "# print(\"Guardando los pacientes filtrados en ./data/pacientes.csv\")\n",
    "# # Guardar pacientes en CSV, preservando saltos de línea\n",
    "# df_pacientes.to_csv(\"./pacientes.csv\", index=False)\n",
    "\n",
    "# Nota: pandas convierte automáticamente '\\r\\n' en saltos de línea reales en el CSV.\n",
    "# Esto puede romper la estructura del CSV si abres el archivo con un editor de texto o Excel,\n",
    "# ya que los saltos de línea dentro de los campos pueden hacer que una fila se divida en varias.\n",
    "# Para evitar esto, puedes reemplazar los saltos de línea por espacios o algún otro símbolo antes de guardar:\n",
    "\n",
    "# df_pacientes.replace({r'\\r\\n': ' | ', r'\\n': ' | ', r'\\r': ' | '}, regex=True).to_csv(\"./pacientes.csv\", index=False)\n",
    "\n",
    "print(\"Guardando las evoluciones en ./data/evoluciones.csv\")\n",
    "df_evoluciones.to_csv(\"./evoluciones.csv\", index=False)\n"
   ]
  },
  {
   "cell_type": "markdown",
   "id": "392b9fbe",
   "metadata": {},
   "source": []
  }
 ],
 "metadata": {
  "kernelspec": {
   "display_name": "Python 3",
   "language": "python",
   "name": "python3"
  },
  "language_info": {
   "codemirror_mode": {
    "name": "ipython",
    "version": 3
   },
   "file_extension": ".py",
   "mimetype": "text/x-python",
   "name": "python",
   "nbconvert_exporter": "python",
   "pygments_lexer": "ipython3",
   "version": "3.13.1"
  }
 },
 "nbformat": 4,
 "nbformat_minor": 5
}
