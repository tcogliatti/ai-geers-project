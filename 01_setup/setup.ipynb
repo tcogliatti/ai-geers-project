{
 "cells": [
  {
   "cell_type": "markdown",
   "id": "2df72826",
   "metadata": {},
   "source": [
    "# Setup del proyecto"
   ]
  },
  {
   "cell_type": "markdown",
   "id": "3d2480b1",
   "metadata": {},
   "source": [
    "En esta sección preparamos el entorno de trabajo necesario para el proyecto."
   ]
  },
  {
   "cell_type": "markdown",
   "id": "0e91553e",
   "metadata": {},
   "source": [
    "## Instalaciones"
   ]
  },
  {
   "cell_type": "code",
   "execution_count": 1,
   "id": "d192d8c6",
   "metadata": {},
   "outputs": [
    {
     "name": "stdout",
     "output_type": "stream",
     "text": [
      "Defaulting to user installation because normal site-packages is not writeable\n",
      "Requirement already satisfied: python-dotenv in c:\\users\\dev\\appdata\\roaming\\python\\python313\\site-packages (1.1.1)\n",
      "Requirement already satisfied: pandas in c:\\users\\dev\\appdata\\roaming\\python\\python313\\site-packages (2.3.2)\n",
      "Requirement already satisfied: numpy>=1.26.0 in c:\\users\\dev\\appdata\\roaming\\python\\python313\\site-packages (from pandas) (2.3.3)\n",
      "Requirement already satisfied: python-dateutil>=2.8.2 in c:\\users\\dev\\appdata\\roaming\\python\\python313\\site-packages (from pandas) (2.9.0.post0)\n",
      "Requirement already satisfied: pytz>=2020.1 in c:\\users\\dev\\appdata\\roaming\\python\\python313\\site-packages (from pandas) (2025.2)\n",
      "Requirement already satisfied: tzdata>=2022.7 in c:\\users\\dev\\appdata\\roaming\\python\\python313\\site-packages (from pandas) (2025.2)\n",
      "Requirement already satisfied: six>=1.5 in c:\\python313\\lib\\site-packages (from python-dateutil>=2.8.2->pandas) (1.17.0)\n",
      "Note: you may need to restart the kernel to use updated packages.\n"
     ]
    }
   ],
   "source": [
    "%pip install python-dotenv pandas"
   ]
  },
  {
   "cell_type": "markdown",
   "id": "cfbb387f",
   "metadata": {},
   "source": [
    "## importaciones"
   ]
  },
  {
   "cell_type": "code",
   "execution_count": 2,
   "id": "909c9bf8",
   "metadata": {},
   "outputs": [],
   "source": [
    "from dotenv import load_dotenv\n",
    "import pandas as pd\n",
    "from pathlib import Path\n",
    "import json\n",
    "import os \n",
    "import pprint\n",
    "import sqlite3"
   ]
  },
  {
   "cell_type": "markdown",
   "id": "23a92b9d",
   "metadata": {},
   "source": [
    "## Crear la BBDD"
   ]
  },
  {
   "cell_type": "code",
   "execution_count": 3,
   "id": "d5b4536d",
   "metadata": {},
   "outputs": [
    {
     "ename": "FileNotFoundError",
     "evalue": "[Errno 2] No such file or directory: './data/crate_db.sql'",
     "output_type": "error",
     "traceback": [
      "\u001b[31m---------------------------------------------------------------------------\u001b[39m",
      "\u001b[31mFileNotFoundError\u001b[39m                         Traceback (most recent call last)",
      "\u001b[36mCell\u001b[39m\u001b[36m \u001b[39m\u001b[32mIn[3]\u001b[39m\u001b[32m, line 29\u001b[39m\n\u001b[32m     25\u001b[39m     \u001b[38;5;28;01mfinally\u001b[39;00m:\n\u001b[32m     26\u001b[39m         \u001b[38;5;66;03m# 5. Close the connection\u001b[39;00m\n\u001b[32m     27\u001b[39m         conn.close()\n\u001b[32m---> \u001b[39m\u001b[32m29\u001b[39m \u001b[43mgenerate_sqlite_database\u001b[49m\u001b[43m(\u001b[49m\u001b[33;43m'\u001b[39;49m\u001b[33;43m./data/crate_db.sql\u001b[39;49m\u001b[33;43m'\u001b[39;49m\u001b[43m,\u001b[49m\u001b[43m \u001b[49m\u001b[33;43m'\u001b[39;49m\u001b[33;43m./data/consultorio.db\u001b[39;49m\u001b[33;43m'\u001b[39;49m\u001b[43m)\u001b[49m  \n",
      "\u001b[36mCell\u001b[39m\u001b[36m \u001b[39m\u001b[32mIn[3]\u001b[39m\u001b[32m, line 10\u001b[39m, in \u001b[36mgenerate_sqlite_database\u001b[39m\u001b[34m(sql_script, sqlite_db)\u001b[39m\n\u001b[32m      6\u001b[39m conn = sqlite3.connect(sqlite_db)\n\u001b[32m      8\u001b[39m \u001b[38;5;28;01mtry\u001b[39;00m:\n\u001b[32m      9\u001b[39m     \u001b[38;5;66;03m# 2. Read the SQL script from a file\u001b[39;00m\n\u001b[32m---> \u001b[39m\u001b[32m10\u001b[39m     \u001b[38;5;28;01mwith\u001b[39;00m \u001b[38;5;28;43mopen\u001b[39;49m\u001b[43m(\u001b[49m\u001b[43msql_script\u001b[49m\u001b[43m,\u001b[49m\u001b[43m \u001b[49m\u001b[33;43m'\u001b[39;49m\u001b[33;43mr\u001b[39;49m\u001b[33;43m'\u001b[39;49m\u001b[43m)\u001b[49m \u001b[38;5;28;01mas\u001b[39;00m f:\n\u001b[32m     11\u001b[39m         sql_script = f.read()\n\u001b[32m     13\u001b[39m     \u001b[38;5;66;03m# 3. Execute the SQL script\u001b[39;00m\n",
      "\u001b[36mFile \u001b[39m\u001b[32m~\\AppData\\Roaming\\Python\\Python313\\site-packages\\IPython\\core\\interactiveshell.py:343\u001b[39m, in \u001b[36m_modified_open\u001b[39m\u001b[34m(file, *args, **kwargs)\u001b[39m\n\u001b[32m    336\u001b[39m \u001b[38;5;28;01mif\u001b[39;00m file \u001b[38;5;129;01min\u001b[39;00m {\u001b[32m0\u001b[39m, \u001b[32m1\u001b[39m, \u001b[32m2\u001b[39m}:\n\u001b[32m    337\u001b[39m     \u001b[38;5;28;01mraise\u001b[39;00m \u001b[38;5;167;01mValueError\u001b[39;00m(\n\u001b[32m    338\u001b[39m         \u001b[33mf\u001b[39m\u001b[33m\"\u001b[39m\u001b[33mIPython won\u001b[39m\u001b[33m'\u001b[39m\u001b[33mt let you open fd=\u001b[39m\u001b[38;5;132;01m{\u001b[39;00mfile\u001b[38;5;132;01m}\u001b[39;00m\u001b[33m by default \u001b[39m\u001b[33m\"\u001b[39m\n\u001b[32m    339\u001b[39m         \u001b[33m\"\u001b[39m\u001b[33mas it is likely to crash IPython. If you know what you are doing, \u001b[39m\u001b[33m\"\u001b[39m\n\u001b[32m    340\u001b[39m         \u001b[33m\"\u001b[39m\u001b[33myou can use builtins\u001b[39m\u001b[33m'\u001b[39m\u001b[33m open.\u001b[39m\u001b[33m\"\u001b[39m\n\u001b[32m    341\u001b[39m     )\n\u001b[32m--> \u001b[39m\u001b[32m343\u001b[39m \u001b[38;5;28;01mreturn\u001b[39;00m \u001b[43mio_open\u001b[49m\u001b[43m(\u001b[49m\u001b[43mfile\u001b[49m\u001b[43m,\u001b[49m\u001b[43m \u001b[49m\u001b[43m*\u001b[49m\u001b[43margs\u001b[49m\u001b[43m,\u001b[49m\u001b[43m \u001b[49m\u001b[43m*\u001b[49m\u001b[43m*\u001b[49m\u001b[43mkwargs\u001b[49m\u001b[43m)\u001b[49m\n",
      "\u001b[31mFileNotFoundError\u001b[39m: [Errno 2] No such file or directory: './data/crate_db.sql'"
     ]
    }
   ],
   "source": [
    "import sqlite3\n",
    "\n",
    "def generate_sqlite_database(sql_script, sqlite_db):\n",
    "\n",
    "    # 1. Connect to the SQLite database\n",
    "    conn = sqlite3.connect(sqlite_db)\n",
    "\n",
    "    try:\n",
    "        # 2. Read the SQL script from a file\n",
    "        with open(sql_script, 'r') as f:\n",
    "            sql_script = f.read()\n",
    "\n",
    "        # 3. Execute the SQL script\n",
    "        conn.executescript(sql_script)\n",
    "        print(\"SQL script executed successfully.\")\n",
    "\n",
    "        # 4. Commit changes\n",
    "        conn.commit()\n",
    "\n",
    "    except sqlite3.Error as e:\n",
    "        print(f\"An error occurred: {e}\")\n",
    "        # Rollback changes in case of an error\n",
    "        conn.rollback()\n",
    "\n",
    "    finally:\n",
    "        # 5. Close the connection\n",
    "        conn.close()\n",
    "\n",
    "generate_sqlite_database('./data/crate_db.sql', './data/consultorio.db')  "
   ]
  }
 ],
 "metadata": {
  "kernelspec": {
   "display_name": "Python 3",
   "language": "python",
   "name": "python3"
  },
  "language_info": {
   "codemirror_mode": {
    "name": "ipython",
    "version": 3
   },
   "file_extension": ".py",
   "mimetype": "text/x-python",
   "name": "python",
   "nbconvert_exporter": "python",
   "pygments_lexer": "ipython3",
   "version": "3.13.1"
  }
 },
 "nbformat": 4,
 "nbformat_minor": 5
}
