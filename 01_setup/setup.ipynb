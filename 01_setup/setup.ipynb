{
 "cells": [
  {
   "cell_type": "markdown",
   "id": "2df72826",
   "metadata": {},
   "source": [
    "# Setup del proyecto"
   ]
  },
  {
   "cell_type": "markdown",
   "id": "3d2480b1",
   "metadata": {},
   "source": [
    "En esta sección preparamos el entorno de trabajo necesario para el proyecto."
   ]
  },
  {
   "cell_type": "markdown",
   "id": "0e91553e",
   "metadata": {},
   "source": [
    "## Instalaciones"
   ]
  },
  {
   "cell_type": "code",
   "execution_count": 3,
   "id": "d192d8c6",
   "metadata": {},
   "outputs": [
    {
     "name": "stdout",
     "output_type": "stream",
     "text": [
      "Requirement already satisfied: python-dotenv in /Users/tc/Desktop/Curso - Geers AI/ai-geers-project/.venv/lib/python3.13/site-packages (1.1.1)\n",
      "Collecting pandas\n",
      "  Downloading pandas-2.3.2-cp313-cp313-macosx_11_0_arm64.whl.metadata (91 kB)\n",
      "Collecting numpy>=1.26.0 (from pandas)\n",
      "  Downloading numpy-2.3.3-cp313-cp313-macosx_14_0_arm64.whl.metadata (62 kB)\n",
      "Requirement already satisfied: python-dateutil>=2.8.2 in /Users/tc/Desktop/Curso - Geers AI/ai-geers-project/.venv/lib/python3.13/site-packages (from pandas) (2.9.0.post0)\n",
      "Collecting pytz>=2020.1 (from pandas)\n",
      "  Using cached pytz-2025.2-py2.py3-none-any.whl.metadata (22 kB)\n",
      "Collecting tzdata>=2022.7 (from pandas)\n",
      "  Using cached tzdata-2025.2-py2.py3-none-any.whl.metadata (1.4 kB)\n",
      "Requirement already satisfied: six>=1.5 in /Users/tc/Desktop/Curso - Geers AI/ai-geers-project/.venv/lib/python3.13/site-packages (from python-dateutil>=2.8.2->pandas) (1.17.0)\n",
      "Downloading pandas-2.3.2-cp313-cp313-macosx_11_0_arm64.whl (10.7 MB)\n",
      "\u001b[2K   \u001b[38;2;114;156;31m━━━━━━━━━━━━━━━━━━━━━━━━━━━━━━━━━━━━━━━━\u001b[0m \u001b[32m10.7/10.7 MB\u001b[0m \u001b[31m13.2 MB/s\u001b[0m  \u001b[33m0:00:00\u001b[0m3.0 MB/s\u001b[0m eta \u001b[36m0:00:01\u001b[0m01\u001b[0m\n",
      "\u001b[?25hDownloading numpy-2.3.3-cp313-cp313-macosx_14_0_arm64.whl (5.1 MB)\n",
      "\u001b[2K   \u001b[38;2;114;156;31m━━━━━━━━━━━━━━━━━━━━━━━━━━━━━━━━━━━━━━━━\u001b[0m \u001b[32m5.1/5.1 MB\u001b[0m \u001b[31m26.6 MB/s\u001b[0m  \u001b[33m0:00:00\u001b[0m\n",
      "\u001b[?25hUsing cached pytz-2025.2-py2.py3-none-any.whl (509 kB)\n",
      "Using cached tzdata-2025.2-py2.py3-none-any.whl (347 kB)\n",
      "Installing collected packages: pytz, tzdata, numpy, pandas\n",
      "\u001b[2K   \u001b[38;2;114;156;31m━━━━━━━━━━━━━━━━━━━━━━━━━━━━━━━━━━━━━━━━\u001b[0m \u001b[32m4/4\u001b[0m [pandas]━━━━\u001b[0m \u001b[32m3/4\u001b[0m [pandas]\n",
      "\u001b[1A\u001b[2KSuccessfully installed numpy-2.3.3 pandas-2.3.2 pytz-2025.2 tzdata-2025.2\n",
      "Note: you may need to restart the kernel to use updated packages.\n"
     ]
    }
   ],
   "source": [
    "%pip install python-dotenv pandas"
   ]
  },
  {
   "cell_type": "markdown",
   "id": "cfbb387f",
   "metadata": {},
   "source": [
    "## importaciones"
   ]
  },
  {
   "cell_type": "code",
   "execution_count": 2,
   "id": "909c9bf8",
   "metadata": {},
   "outputs": [],
   "source": [
    "from dotenv import load_dotenv\n",
    "import pandas as pd\n",
    "from pathlib import Path\n",
    "import json\n",
    "import os \n",
    "import pprint\n",
    "import sqlite3"
   ]
  },
  {
   "cell_type": "markdown",
   "id": "23a92b9d",
   "metadata": {},
   "source": [
    "## Crear la BBDD"
   ]
  },
  {
   "cell_type": "code",
   "execution_count": 7,
   "id": "d5b4536d",
   "metadata": {},
   "outputs": [
    {
     "name": "stdout",
     "output_type": "stream",
     "text": [
      "SQL script executed successfully.\n"
     ]
    }
   ],
   "source": [
    "import sqlite3\n",
    "\n",
    "def generate_sqlite_database(sql_script, sqlite_db):\n",
    "\n",
    "    # 1. Connect to the SQLite database\n",
    "    conn = sqlite3.connect(sqlite_db)\n",
    "\n",
    "    try:\n",
    "        # 2. Read the SQL script from a file\n",
    "        with open(sql_script, 'r') as f:\n",
    "            sql_script = f.read()\n",
    "\n",
    "        # 3. Execute the SQL script\n",
    "        conn.executescript(sql_script)\n",
    "        print(\"SQL script executed successfully.\")\n",
    "\n",
    "        # 4. Commit changes\n",
    "        conn.commit()\n",
    "\n",
    "    except sqlite3.Error as e:\n",
    "        print(f\"An error occurred: {e}\")\n",
    "        # Rollback changes in case of an error\n",
    "        conn.rollback()\n",
    "\n",
    "    finally:\n",
    "        # 5. Close the connection\n",
    "        conn.close()\n",
    "\n",
    "generate_sqlite_database('./data/create_db.sql', './data/consultorio.db')  "
   ]
  },
  {
   "cell_type": "markdown",
   "id": "72fa0fb1",
   "metadata": {},
   "source": [
    "## Carga de datos a BBDD\n",
    "Carga de datos a la BBDD desde los archivos de datos fuente\n",
    "\n",
    "### Pacientes"
   ]
  },
  {
   "cell_type": "code",
   "execution_count": 10,
   "id": "2d31ea99",
   "metadata": {},
   "outputs": [],
   "source": [
    "# Obtenemos los archivos de datos fuente\n",
    "df_pacientes = pd.read_csv('./data/pacientes_ficticios.csv')\n",
    "df_evoluciones = pd.read_csv('./data/evoluciones.csv')\n"
   ]
  },
  {
   "cell_type": "code",
   "execution_count": 12,
   "id": "c524c79c",
   "metadata": {},
   "outputs": [],
   "source": [
    "def insert_data_to_db(df_pacientes, df_evoluciones, db_name):\n",
    "    conn = sqlite3.connect(db_name)\n",
    "    cursor = conn.cursor()\n",
    "\n",
    "    # Insert pacientes\n",
    "    for _, row in df_pacientes.iterrows():\n",
    "        cursor.execute(\"\"\"\n",
    "            INSERT INTO paciente (id_paciente, apellido, nombre, fecha_nac, sexo, edad, dni, localidad, obra_social, afiliado_nro, telefono, telefono_numero, email, especialidad, diagnostico, enfermedad_base, ant_perinatales, ant_familiares, registro, fecha_registro)\n",
    "            VALUES (?, ?, ?, ?, ?, ?, ?, ?, ?, ?, ?, ?, ?, ?, ?, ?, ?, ?, ?, ?)\n",
    "        \"\"\", (\n",
    "            row['id_paciente'], row['apellido'], row['nombre'], row['fecha_nac'], row['sexo'], row['edad'], row['dni'], row['localidad'], row['obra_social'], row['afiliado_nro'], row['telefono'], row['telefono_numero'], row['email'], row['especialidad'], row['diagnostico'], row['enfermedad_base'], row['ant_perinatales'], row['ant_familiares'], row['registro'], row['fecha_reg']\n",
    "        ))\n",
    "\n",
    "    # Insert evoluciones\n",
    "    for _, row in df_evoluciones.iterrows():\n",
    "        cursor.execute(\"\"\"\n",
    "            INSERT INTO evolucion (id, id_paciente, fecha, edad, uni_edad, edad_anios, edad_texto, peso, talla, imc, pc, motivo, conducta)\n",
    "            VALUES (?, ?, ?, ?, ?, ?, ?, ?, ?, ?, ?, ?, ?)\n",
    "        \"\"\", (\n",
    "            row['id'], row['id_paciente'], row['fecha'], row['edad'], row['uni_edad'], row['edad_anios'], row['edad_texto'], row['peso'], row['talla'], row['imc'], row['pc'], row['motivo'], row['conducta']\n",
    "        ))\n",
    "\n",
    "    conn.commit()\n",
    "    conn.close()\n",
    "    \n",
    "insert_data_to_db(df_pacientes, df_evoluciones, './data/consultorio.db')"
   ]
  },
  {
   "cell_type": "code",
   "execution_count": 13,
   "id": "9516bf4e",
   "metadata": {},
   "outputs": [
    {
     "name": "stdout",
     "output_type": "stream",
     "text": [
      "(150,\n",
      " 'Fernandez',\n",
      " 'Lucas',\n",
      " '2012-02-06',\n",
      " 'Varón',\n",
      " '13 Años',\n",
      " '52.045.238',\n",
      " 'Olavarría',\n",
      " 'TV SALUD',\n",
      " '09873480',\n",
      " '2284-591234',\n",
      " '2284591234',\n",
      " None,\n",
      " 'Pediátrico',\n",
      " 'Otra',\n",
      " 'Klippel Trenaunay',\n",
      " 'RNT PAEG vaginal Klippel Trenaunay Dx realizado al momento del nacer con uso '\n",
      " 'de media de compresión',\n",
      " 'No refiere',\n",
      " 'Administrador',\n",
      " 'Tue Apr 08 2025 10:39:10')\n",
      "(69,\n",
      " 323,\n",
      " '2025-08-14',\n",
      " 0,\n",
      " None,\n",
      " 1.31,\n",
      " '1 años y 4 meses',\n",
      " 10.9,\n",
      " 76.0,\n",
      " 18.87,\n",
      " 47.5,\n",
      " 'Control de salud',\n",
      " 'Peso 10.970')\n"
     ]
    }
   ],
   "source": [
    "import pprint \n",
    "\n",
    "## cooroborar que los datos se subieron correctamente a la BBDD\n",
    "def get_one_patient(db_name, patient_id):\n",
    "    conn = sqlite3.connect(db_name)\n",
    "    cursor = conn.cursor()\n",
    "\n",
    "    cursor.execute(\"SELECT * FROM paciente WHERE id_paciente = ?\", (patient_id,))\n",
    "    patient = cursor.fetchone()\n",
    "\n",
    "    conn.close()\n",
    "    return patient  \n",
    "\n",
    "def get_one_evolution(db_name, evolution_id):\n",
    "    conn = sqlite3.connect(db_name)\n",
    "    cursor = conn.cursor()\n",
    "\n",
    "    cursor.execute(\"SELECT * FROM evolucion WHERE id = ?\", (evolution_id,))\n",
    "    evolution = cursor.fetchone()\n",
    "\n",
    "    conn.close()\n",
    "    return evolution\n",
    "\n",
    "pprint.pprint(get_one_patient('./data/consultorio.db', 150))\n",
    "pprint.pprint(get_one_evolution('./data/consultorio.db', 69))"
   ]
  }
 ],
 "metadata": {
  "kernelspec": {
   "display_name": ".venv",
   "language": "python",
   "name": "python3"
  },
  "language_info": {
   "codemirror_mode": {
    "name": "ipython",
    "version": 3
   },
   "file_extension": ".py",
   "mimetype": "text/x-python",
   "name": "python",
   "nbconvert_exporter": "python",
   "pygments_lexer": "ipython3",
   "version": "3.13.5"
  }
 },
 "nbformat": 4,
 "nbformat_minor": 5
}
