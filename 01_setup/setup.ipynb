{
 "cells": [
  {
   "cell_type": "markdown",
   "id": "2df72826",
   "metadata": {},
   "source": [
    "# Setup del proyecto"
   ]
  },
  {
   "cell_type": "markdown",
   "id": "3d2480b1",
   "metadata": {},
   "source": [
    "En esta sección preparamos el entorno de trabajo necesario para el proyecto."
   ]
  },
  {
   "cell_type": "markdown",
   "id": "0e91553e",
   "metadata": {},
   "source": [
    "## Instalaciones"
   ]
  },
  {
   "cell_type": "code",
   "execution_count": 3,
   "id": "d192d8c6",
   "metadata": {},
   "outputs": [
    {
     "name": "stdout",
     "output_type": "stream",
     "text": [
      "Requirement already satisfied: python-dotenv in /Users/tc/Desktop/Curso - Geers AI/ai-geers-project/.venv/lib/python3.13/site-packages (1.1.1)\n",
      "Collecting pandas\n",
      "  Downloading pandas-2.3.2-cp313-cp313-macosx_11_0_arm64.whl.metadata (91 kB)\n",
      "Collecting numpy>=1.26.0 (from pandas)\n",
      "  Downloading numpy-2.3.3-cp313-cp313-macosx_14_0_arm64.whl.metadata (62 kB)\n",
      "Requirement already satisfied: python-dateutil>=2.8.2 in /Users/tc/Desktop/Curso - Geers AI/ai-geers-project/.venv/lib/python3.13/site-packages (from pandas) (2.9.0.post0)\n",
      "Collecting pytz>=2020.1 (from pandas)\n",
      "  Using cached pytz-2025.2-py2.py3-none-any.whl.metadata (22 kB)\n",
      "Collecting tzdata>=2022.7 (from pandas)\n",
      "  Using cached tzdata-2025.2-py2.py3-none-any.whl.metadata (1.4 kB)\n",
      "Requirement already satisfied: six>=1.5 in /Users/tc/Desktop/Curso - Geers AI/ai-geers-project/.venv/lib/python3.13/site-packages (from python-dateutil>=2.8.2->pandas) (1.17.0)\n",
      "Downloading pandas-2.3.2-cp313-cp313-macosx_11_0_arm64.whl (10.7 MB)\n",
      "\u001b[2K   \u001b[38;2;114;156;31m━━━━━━━━━━━━━━━━━━━━━━━━━━━━━━━━━━━━━━━━\u001b[0m \u001b[32m10.7/10.7 MB\u001b[0m \u001b[31m13.2 MB/s\u001b[0m  \u001b[33m0:00:00\u001b[0m3.0 MB/s\u001b[0m eta \u001b[36m0:00:01\u001b[0m01\u001b[0m\n",
      "\u001b[?25hDownloading numpy-2.3.3-cp313-cp313-macosx_14_0_arm64.whl (5.1 MB)\n",
      "\u001b[2K   \u001b[38;2;114;156;31m━━━━━━━━━━━━━━━━━━━━━━━━━━━━━━━━━━━━━━━━\u001b[0m \u001b[32m5.1/5.1 MB\u001b[0m \u001b[31m26.6 MB/s\u001b[0m  \u001b[33m0:00:00\u001b[0m\n",
      "\u001b[?25hUsing cached pytz-2025.2-py2.py3-none-any.whl (509 kB)\n",
      "Using cached tzdata-2025.2-py2.py3-none-any.whl (347 kB)\n",
      "Installing collected packages: pytz, tzdata, numpy, pandas\n",
      "\u001b[2K   \u001b[38;2;114;156;31m━━━━━━━━━━━━━━━━━━━━━━━━━━━━━━━━━━━━━━━━\u001b[0m \u001b[32m4/4\u001b[0m [pandas]━━━━\u001b[0m \u001b[32m3/4\u001b[0m [pandas]\n",
      "\u001b[1A\u001b[2KSuccessfully installed numpy-2.3.3 pandas-2.3.2 pytz-2025.2 tzdata-2025.2\n",
      "Note: you may need to restart the kernel to use updated packages.\n"
     ]
    }
   ],
   "source": [
    "%pip install python-dotenv pandas"
   ]
  },
  {
   "cell_type": "markdown",
   "id": "cfbb387f",
   "metadata": {},
   "source": [
    "## importaciones"
   ]
  },
  {
   "cell_type": "code",
   "execution_count": 4,
   "id": "909c9bf8",
   "metadata": {},
   "outputs": [],
   "source": [
    "from dotenv import load_dotenv\n",
    "import pandas as pd\n",
    "from pathlib import Path\n",
    "import json\n",
    "import os \n",
    "import pprint\n",
    "import sqlite3"
   ]
  },
  {
   "cell_type": "markdown",
   "id": "23a92b9d",
   "metadata": {},
   "source": [
    "## Crear la BBDD"
   ]
  },
  {
   "cell_type": "code",
   "execution_count": null,
   "id": "d5b4536d",
   "metadata": {},
   "outputs": [],
   "source": [
    "import sqlite3\n",
    "\n",
    "def generate_sqlite_database(sql_script, sqlite_db):\n",
    "\n",
    "    # 1. Connect to the SQLite database\n",
    "    conn = sqlite3.connect(sqlite_db)\n",
    "\n",
    "    try:\n",
    "        # 2. Read the SQL script from a file\n",
    "        with open(sql_script, 'r') as f:\n",
    "            sql_script = f.read()\n",
    "\n",
    "        # 3. Execute the SQL script\n",
    "        conn.executescript(sql_script)\n",
    "        print(\"SQL script executed successfully.\")\n",
    "\n",
    "        # 4. Commit changes\n",
    "        conn.commit()\n",
    "\n",
    "    except sqlite3.Error as e:\n",
    "        print(f\"An error occurred: {e}\")\n",
    "        # Rollback changes in case of an error\n",
    "        conn.rollback()\n",
    "\n",
    "    finally:\n",
    "        # 5. Close the connection\n",
    "        conn.close()\n",
    "\n",
    "generate_sqlite_database('./data/chinook-sqlite.sql', './data/chinook.db')  "
   ]
  }
 ],
 "metadata": {
  "kernelspec": {
   "display_name": ".venv",
   "language": "python",
   "name": "python3"
  },
  "language_info": {
   "codemirror_mode": {
    "name": "ipython",
    "version": 3
   },
   "file_extension": ".py",
   "mimetype": "text/x-python",
   "name": "python",
   "nbconvert_exporter": "python",
   "pygments_lexer": "ipython3",
   "version": "3.13.5"
  }
 },
 "nbformat": 4,
 "nbformat_minor": 5
}
