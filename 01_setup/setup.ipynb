{
 "cells": [
  {
   "cell_type": "markdown",
   "id": "2df72826",
   "metadata": {},
   "source": [
    "# Setup del proyecto"
   ]
  },
  {
   "cell_type": "markdown",
   "id": "3d2480b1",
   "metadata": {},
   "source": [
    "En esta sección preparamos el entorno de trabajo necesario para el proyecto."
   ]
  },
  {
   "cell_type": "markdown",
   "id": "0e91553e",
   "metadata": {},
   "source": [
    "## Instalaciones"
   ]
  },
  {
   "cell_type": "code",
   "execution_count": 1,
   "id": "d192d8c6",
   "metadata": {},
   "outputs": [
    {
     "name": "stdout",
     "output_type": "stream",
     "text": [
      "Defaulting to user installation because normal site-packages is not writeable\n",
      "Requirement already satisfied: python-dotenv in c:\\users\\dev\\appdata\\roaming\\python\\python313\\site-packages (1.1.1)\n",
      "Requirement already satisfied: pandas in c:\\users\\dev\\appdata\\roaming\\python\\python313\\site-packages (2.3.2)\n",
      "Requirement already satisfied: numpy>=1.26.0 in c:\\users\\dev\\appdata\\roaming\\python\\python313\\site-packages (from pandas) (2.3.3)\n",
      "Requirement already satisfied: python-dateutil>=2.8.2 in c:\\users\\dev\\appdata\\roaming\\python\\python313\\site-packages (from pandas) (2.9.0.post0)\n",
      "Requirement already satisfied: pytz>=2020.1 in c:\\users\\dev\\appdata\\roaming\\python\\python313\\site-packages (from pandas) (2025.2)\n",
      "Requirement already satisfied: tzdata>=2022.7 in c:\\users\\dev\\appdata\\roaming\\python\\python313\\site-packages (from pandas) (2025.2)\n",
      "Requirement already satisfied: six>=1.5 in c:\\python313\\lib\\site-packages (from python-dateutil>=2.8.2->pandas) (1.17.0)\n",
      "Note: you may need to restart the kernel to use updated packages.\n"
     ]
    },
    {
     "name": "stderr",
     "output_type": "stream",
     "text": [
      "\n",
      "[notice] A new release of pip is available: 25.1.1 -> 25.2\n",
      "[notice] To update, run: python.exe -m pip install --upgrade pip\n"
     ]
    }
   ],
   "source": [
    "%pip install python-dotenv pandas"
   ]
  },
  {
   "cell_type": "markdown",
   "id": "cfbb387f",
   "metadata": {},
   "source": [
    "## importaciones"
   ]
  },
  {
   "cell_type": "code",
   "execution_count": 4,
   "id": "909c9bf8",
   "metadata": {},
   "outputs": [],
   "source": [
    "from dotenv import load_dotenv\n",
    "import pandas as pd\n",
    "from pathlib import Path\n",
    "import json\n",
    "import os \n",
    "import pprint\n",
    "import sqlite3"
   ]
  },
  {
   "cell_type": "markdown",
   "id": "23a92b9d",
   "metadata": {},
   "source": [
    "## Crear la BBDD"
   ]
  },
  {
   "cell_type": "code",
   "execution_count": null,
   "id": "d5b4536d",
   "metadata": {},
   "outputs": [],
   "source": [
    "import sqlite3\n",
    "\n",
    "def generate_sqlite_database(sql_script, sqlite_db):\n",
    "\n",
    "    # 1. Connect to the SQLite database\n",
    "    conn = sqlite3.connect(sqlite_db)\n",
    "\n",
    "    try:\n",
    "        # 2. Read the SQL script from a file\n",
    "        with open(sql_script, 'r') as f:\n",
    "            sql_script = f.read()\n",
    "\n",
    "        # 3. Execute the SQL script\n",
    "        conn.executescript(sql_script)\n",
    "        print(\"SQL script executed successfully.\")\n",
    "\n",
    "        # 4. Commit changes\n",
    "        conn.commit()\n",
    "\n",
    "    except sqlite3.Error as e:\n",
    "        print(f\"An error occurred: {e}\")\n",
    "        # Rollback changes in case of an error\n",
    "        conn.rollback()\n",
    "\n",
    "    finally:\n",
    "        # 5. Close the connection\n",
    "        conn.close()\n",
    "\n",
    "generate_sqlite_database('./data/chinook-sqlite.sql', './data/chinook.db')  "
   ]
  }
 ],
 "metadata": {
  "kernelspec": {
   "display_name": "Python 3",
   "language": "python",
   "name": "python3"
  },
  "language_info": {
   "codemirror_mode": {
    "name": "ipython",
    "version": 3
   },
   "file_extension": ".py",
   "mimetype": "text/x-python",
   "name": "python",
   "nbconvert_exporter": "python",
   "pygments_lexer": "ipython3",
   "version": "3.13.1"
  }
 },
 "nbformat": 4,
 "nbformat_minor": 5
}
